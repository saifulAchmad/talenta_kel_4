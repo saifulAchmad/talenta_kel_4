{
 "cells": [
  {
   "cell_type": "code",
   "execution_count": 1,
   "metadata": {},
   "outputs": [
    {
     "name": "stderr",
     "output_type": "stream",
     "text": [
      "/Users/syahrul/anaconda3/envs/team-4/lib/python3.9/site-packages/sentence_transformers/cross_encoder/CrossEncoder.py:11: TqdmExperimentalWarning: Using `tqdm.autonotebook.tqdm` in notebook mode. Use `tqdm.tqdm` instead to force console mode (e.g. in jupyter console)\n",
      "  from tqdm.autonotebook import tqdm, trange\n"
     ]
    }
   ],
   "source": [
    "import pandas as pd\n",
    "import plotly.express as px\n",
    "\n",
    "from sentence_transformers import SentenceTransformer"
   ]
  },
  {
   "cell_type": "code",
   "execution_count": 2,
   "metadata": {},
   "outputs": [],
   "source": [
    "# msmarco-distilbert-dot-v5\n",
    "model = SentenceTransformer('sentence-transformers/paraphrase-multilingual-MiniLM-L12-v2')"
   ]
  },
  {
   "cell_type": "code",
   "execution_count": 14,
   "metadata": {},
   "outputs": [
    {
     "data": {
      "text/html": [
       "<div>\n",
       "<style scoped>\n",
       "    .dataframe tbody tr th:only-of-type {\n",
       "        vertical-align: middle;\n",
       "    }\n",
       "\n",
       "    .dataframe tbody tr th {\n",
       "        vertical-align: top;\n",
       "    }\n",
       "\n",
       "    .dataframe thead th {\n",
       "        text-align: right;\n",
       "    }\n",
       "</style>\n",
       "<table border=\"1\" class=\"dataframe\">\n",
       "  <thead>\n",
       "    <tr style=\"text-align: right;\">\n",
       "      <th></th>\n",
       "      <th>id</th>\n",
       "      <th>bidang</th>\n",
       "      <th>supplier</th>\n",
       "      <th>deskripsi</th>\n",
       "      <th>barang</th>\n",
       "      <th>provinsi</th>\n",
       "      <th>kota</th>\n",
       "      <th>kecamatan</th>\n",
       "    </tr>\n",
       "  </thead>\n",
       "  <tbody>\n",
       "    <tr>\n",
       "      <th>0</th>\n",
       "      <td>1</td>\n",
       "      <td>Makanan</td>\n",
       "      <td>PT Sari Rasa Nusantara</td>\n",
       "      <td>Pemasok bahan baku makanan tradisional</td>\n",
       "      <td>Tepung beras, santan kelapa, gula merah</td>\n",
       "      <td>Jawa Tengah</td>\n",
       "      <td>Surakarta</td>\n",
       "      <td>Laweyan</td>\n",
       "    </tr>\n",
       "    <tr>\n",
       "      <th>1</th>\n",
       "      <td>2</td>\n",
       "      <td>Kerajinan</td>\n",
       "      <td>CV Anyaman Indah</td>\n",
       "      <td>Produsen anyaman bambu dan rotan</td>\n",
       "      <td>Keranjang, tikar, furnitur rotan</td>\n",
       "      <td>Bali</td>\n",
       "      <td>Gianyar</td>\n",
       "      <td>Ubud</td>\n",
       "    </tr>\n",
       "    <tr>\n",
       "      <th>2</th>\n",
       "      <td>3</td>\n",
       "      <td>Tekstil</td>\n",
       "      <td>UD Batik Pesisir</td>\n",
       "      <td>Pengrajin kain batik pesisir</td>\n",
       "      <td>Kain batik, baju batik, syal batik</td>\n",
       "      <td>Jawa Barat</td>\n",
       "      <td>Cirebon</td>\n",
       "      <td>Plered</td>\n",
       "    </tr>\n",
       "    <tr>\n",
       "      <th>3</th>\n",
       "      <td>4</td>\n",
       "      <td>Pertanian</td>\n",
       "      <td>Koperasi Tani Makmur</td>\n",
       "      <td>Pemasok bibit dan pupuk organik</td>\n",
       "      <td>Bibit sayuran, pupuk kompos, alat pertanian</td>\n",
       "      <td>Jawa Timur</td>\n",
       "      <td>Malang</td>\n",
       "      <td>Poncokusumo</td>\n",
       "    </tr>\n",
       "    <tr>\n",
       "      <th>4</th>\n",
       "      <td>5</td>\n",
       "      <td>Kosmetik</td>\n",
       "      <td>PT Herbal Alami Nusantara</td>\n",
       "      <td>Produsen bahan baku kosmetik alami</td>\n",
       "      <td>Ekstrak tumbuhan, minyak esensial, bahan penga...</td>\n",
       "      <td>DI Yogyakarta</td>\n",
       "      <td>Sleman</td>\n",
       "      <td>Ngaglik</td>\n",
       "    </tr>\n",
       "    <tr>\n",
       "      <th>...</th>\n",
       "      <td>...</td>\n",
       "      <td>...</td>\n",
       "      <td>...</td>\n",
       "      <td>...</td>\n",
       "      <td>...</td>\n",
       "      <td>...</td>\n",
       "      <td>...</td>\n",
       "      <td>...</td>\n",
       "    </tr>\n",
       "    <tr>\n",
       "      <th>245</th>\n",
       "      <td>246</td>\n",
       "      <td>Furniture</td>\n",
       "      <td>PT Furniture Nusantara</td>\n",
       "      <td>Produsen dan eksportir furniture kayu</td>\n",
       "      <td>Meja, kursi, lemari kayu</td>\n",
       "      <td>Kalimantan Tengah</td>\n",
       "      <td>Palangkaraya</td>\n",
       "      <td>Jekan Raya</td>\n",
       "    </tr>\n",
       "    <tr>\n",
       "      <th>246</th>\n",
       "      <td>247</td>\n",
       "      <td>Perikanan</td>\n",
       "      <td>CV Ikan Segar Papua</td>\n",
       "      <td>Distributor ikan segar dan hasil laut</td>\n",
       "      <td>Ikan tuna, udang, kepiting</td>\n",
       "      <td>Papua</td>\n",
       "      <td>Jayapura</td>\n",
       "      <td>Abepura</td>\n",
       "    </tr>\n",
       "    <tr>\n",
       "      <th>247</th>\n",
       "      <td>248</td>\n",
       "      <td>Elektronik</td>\n",
       "      <td>PT Elektronik Indonesia</td>\n",
       "      <td>Pemasok komponen elektronik dan gadget</td>\n",
       "      <td>Microcontroller, sensor, perangkat IoT</td>\n",
       "      <td>Banten</td>\n",
       "      <td>Tangerang</td>\n",
       "      <td>Serpong</td>\n",
       "    </tr>\n",
       "    <tr>\n",
       "      <th>248</th>\n",
       "      <td>249</td>\n",
       "      <td>Otomotif</td>\n",
       "      <td>UD Otomotif Jaya</td>\n",
       "      <td>Distributor sparepart dan aksesoris otomotif</td>\n",
       "      <td>Velg, jok mobil, aksesori interior mobil</td>\n",
       "      <td>Jawa Barat</td>\n",
       "      <td>Bekasi</td>\n",
       "      <td>Jatiasih</td>\n",
       "    </tr>\n",
       "    <tr>\n",
       "      <th>249</th>\n",
       "      <td>250</td>\n",
       "      <td>Perkebunan</td>\n",
       "      <td>PT Teh Nusantara</td>\n",
       "      <td>Penghasil dan pemasok teh berkualitas</td>\n",
       "      <td>Daun teh hijau, teh hitam, teh oolong</td>\n",
       "      <td>Jawa Barat</td>\n",
       "      <td>Bandung</td>\n",
       "      <td>Cimenyan</td>\n",
       "    </tr>\n",
       "  </tbody>\n",
       "</table>\n",
       "<p>250 rows × 8 columns</p>\n",
       "</div>"
      ],
      "text/plain": [
       "      id      bidang                   supplier  \\\n",
       "0      1     Makanan     PT Sari Rasa Nusantara   \n",
       "1      2   Kerajinan           CV Anyaman Indah   \n",
       "2      3     Tekstil           UD Batik Pesisir   \n",
       "3      4   Pertanian       Koperasi Tani Makmur   \n",
       "4      5    Kosmetik  PT Herbal Alami Nusantara   \n",
       "..   ...         ...                        ...   \n",
       "245  246   Furniture     PT Furniture Nusantara   \n",
       "246  247   Perikanan        CV Ikan Segar Papua   \n",
       "247  248  Elektronik    PT Elektronik Indonesia   \n",
       "248  249    Otomotif           UD Otomotif Jaya   \n",
       "249  250  Perkebunan           PT Teh Nusantara   \n",
       "\n",
       "                                        deskripsi  \\\n",
       "0          Pemasok bahan baku makanan tradisional   \n",
       "1                Produsen anyaman bambu dan rotan   \n",
       "2                    Pengrajin kain batik pesisir   \n",
       "3                 Pemasok bibit dan pupuk organik   \n",
       "4              Produsen bahan baku kosmetik alami   \n",
       "..                                            ...   \n",
       "245         Produsen dan eksportir furniture kayu   \n",
       "246         Distributor ikan segar dan hasil laut   \n",
       "247        Pemasok komponen elektronik dan gadget   \n",
       "248  Distributor sparepart dan aksesoris otomotif   \n",
       "249         Penghasil dan pemasok teh berkualitas   \n",
       "\n",
       "                                                barang           provinsi  \\\n",
       "0              Tepung beras, santan kelapa, gula merah        Jawa Tengah   \n",
       "1                     Keranjang, tikar, furnitur rotan               Bali   \n",
       "2                   Kain batik, baju batik, syal batik         Jawa Barat   \n",
       "3          Bibit sayuran, pupuk kompos, alat pertanian         Jawa Timur   \n",
       "4    Ekstrak tumbuhan, minyak esensial, bahan penga...      DI Yogyakarta   \n",
       "..                                                 ...                ...   \n",
       "245                           Meja, kursi, lemari kayu  Kalimantan Tengah   \n",
       "246                         Ikan tuna, udang, kepiting              Papua   \n",
       "247             Microcontroller, sensor, perangkat IoT             Banten   \n",
       "248           Velg, jok mobil, aksesori interior mobil         Jawa Barat   \n",
       "249              Daun teh hijau, teh hitam, teh oolong         Jawa Barat   \n",
       "\n",
       "             kota    kecamatan  \n",
       "0       Surakarta      Laweyan  \n",
       "1         Gianyar         Ubud  \n",
       "2         Cirebon       Plered  \n",
       "3          Malang  Poncokusumo  \n",
       "4          Sleman      Ngaglik  \n",
       "..            ...          ...  \n",
       "245  Palangkaraya   Jekan Raya  \n",
       "246      Jayapura      Abepura  \n",
       "247     Tangerang      Serpong  \n",
       "248        Bekasi     Jatiasih  \n",
       "249       Bandung     Cimenyan  \n",
       "\n",
       "[250 rows x 8 columns]"
      ]
     },
     "execution_count": 14,
     "metadata": {},
     "output_type": "execute_result"
    }
   ],
   "source": [
    "df_content = pd.read_csv('../umkm.csv', sep=',')\n",
    "df_content"
   ]
  },
  {
   "cell_type": "code",
   "execution_count": null,
   "metadata": {},
   "outputs": [],
   "source": [
    "common_words = [\n",
    "    ('pemasok', 100),\n",
    "    ('distributor', 76),\n",
    "]"
   ]
  },
  {
   "cell_type": "code",
   "execution_count": null,
   "metadata": {},
   "outputs": [],
   "source": [
    "# Data cleaning\n",
    "# Lower case\n",
    "# Remove common words\n",
    "\n",
    "# df_content['deskripsi'] = df_content['deskripsi']."
   ]
  },
  {
   "cell_type": "code",
   "execution_count": 15,
   "metadata": {},
   "outputs": [
    {
     "data": {
      "text/plain": [
       "['Pemasok bahan baku makanan tradisional',\n",
       " 'Produsen anyaman bambu dan rotan',\n",
       " 'Pengrajin kain batik pesisir']"
      ]
     },
     "execution_count": 15,
     "metadata": {},
     "output_type": "execute_result"
    }
   ],
   "source": [
    "titles = df_content['deskripsi'].tolist()\n",
    "titles[:3]"
   ]
  },
  {
   "cell_type": "code",
   "execution_count": 16,
   "metadata": {},
   "outputs": [],
   "source": [
    "embeddings = model.encode(titles)"
   ]
  },
  {
   "cell_type": "code",
   "execution_count": 17,
   "metadata": {},
   "outputs": [
    {
     "data": {
      "text/plain": [
       "array([[ 0.01610491, -0.06028773,  0.07437204, ..., -0.12338717,\n",
       "         0.23116021,  0.06453101],\n",
       "       [-0.1377465 , -0.03456627,  0.04939381, ..., -0.19732699,\n",
       "         0.27801213,  0.35066137],\n",
       "       [-0.05291658,  0.1702237 , -0.05840788, ..., -0.5651633 ,\n",
       "         0.12783937,  0.46061882],\n",
       "       ...,\n",
       "       [-0.24866237,  0.23206493,  0.18289655, ..., -0.15922247,\n",
       "         0.2256946 ,  0.08991387],\n",
       "       [ 0.20127903,  0.00553908,  0.0068404 , ..., -0.08771888,\n",
       "         0.14973296,  0.22827154],\n",
       "       [ 0.05423613, -0.23297556, -0.1250364 , ...,  0.18752617,\n",
       "         0.50946116,  0.17080821]], dtype=float32)"
      ]
     },
     "execution_count": 17,
     "metadata": {},
     "output_type": "execute_result"
    }
   ],
   "source": [
    "embeddings"
   ]
  },
  {
   "cell_type": "code",
   "execution_count": 18,
   "metadata": {},
   "outputs": [
    {
     "data": {
      "text/plain": [
       "(250, 384)"
      ]
     },
     "execution_count": 18,
     "metadata": {},
     "output_type": "execute_result"
    }
   ],
   "source": [
    "embeddings.shape"
   ]
  },
  {
   "cell_type": "code",
   "execution_count": 19,
   "metadata": {},
   "outputs": [
    {
     "data": {
      "text/html": [
       "<div>\n",
       "<style scoped>\n",
       "    .dataframe tbody tr th:only-of-type {\n",
       "        vertical-align: middle;\n",
       "    }\n",
       "\n",
       "    .dataframe tbody tr th {\n",
       "        vertical-align: top;\n",
       "    }\n",
       "\n",
       "    .dataframe thead th {\n",
       "        text-align: right;\n",
       "    }\n",
       "</style>\n",
       "<table border=\"1\" class=\"dataframe\">\n",
       "  <thead>\n",
       "    <tr style=\"text-align: right;\">\n",
       "      <th></th>\n",
       "      <th>id</th>\n",
       "      <th>bidang</th>\n",
       "      <th>supplier</th>\n",
       "      <th>deskripsi</th>\n",
       "      <th>barang</th>\n",
       "      <th>provinsi</th>\n",
       "      <th>kota</th>\n",
       "      <th>kecamatan</th>\n",
       "      <th>Embedding</th>\n",
       "    </tr>\n",
       "  </thead>\n",
       "  <tbody>\n",
       "    <tr>\n",
       "      <th>0</th>\n",
       "      <td>1</td>\n",
       "      <td>Makanan</td>\n",
       "      <td>PT Sari Rasa Nusantara</td>\n",
       "      <td>Pemasok bahan baku makanan tradisional</td>\n",
       "      <td>Tepung beras, santan kelapa, gula merah</td>\n",
       "      <td>Jawa Tengah</td>\n",
       "      <td>Surakarta</td>\n",
       "      <td>Laweyan</td>\n",
       "      <td>[0.01610491, -0.060287725, 0.07437204, 0.23463...</td>\n",
       "    </tr>\n",
       "    <tr>\n",
       "      <th>1</th>\n",
       "      <td>2</td>\n",
       "      <td>Kerajinan</td>\n",
       "      <td>CV Anyaman Indah</td>\n",
       "      <td>Produsen anyaman bambu dan rotan</td>\n",
       "      <td>Keranjang, tikar, furnitur rotan</td>\n",
       "      <td>Bali</td>\n",
       "      <td>Gianyar</td>\n",
       "      <td>Ubud</td>\n",
       "      <td>[-0.1377465, -0.034566272, 0.04939381, 0.37974...</td>\n",
       "    </tr>\n",
       "    <tr>\n",
       "      <th>2</th>\n",
       "      <td>3</td>\n",
       "      <td>Tekstil</td>\n",
       "      <td>UD Batik Pesisir</td>\n",
       "      <td>Pengrajin kain batik pesisir</td>\n",
       "      <td>Kain batik, baju batik, syal batik</td>\n",
       "      <td>Jawa Barat</td>\n",
       "      <td>Cirebon</td>\n",
       "      <td>Plered</td>\n",
       "      <td>[-0.052916575, 0.1702237, -0.05840788, 0.23018...</td>\n",
       "    </tr>\n",
       "    <tr>\n",
       "      <th>3</th>\n",
       "      <td>4</td>\n",
       "      <td>Pertanian</td>\n",
       "      <td>Koperasi Tani Makmur</td>\n",
       "      <td>Pemasok bibit dan pupuk organik</td>\n",
       "      <td>Bibit sayuran, pupuk kompos, alat pertanian</td>\n",
       "      <td>Jawa Timur</td>\n",
       "      <td>Malang</td>\n",
       "      <td>Poncokusumo</td>\n",
       "      <td>[-0.07467559, 0.13179857, 0.015916528, 0.06605...</td>\n",
       "    </tr>\n",
       "    <tr>\n",
       "      <th>4</th>\n",
       "      <td>5</td>\n",
       "      <td>Kosmetik</td>\n",
       "      <td>PT Herbal Alami Nusantara</td>\n",
       "      <td>Produsen bahan baku kosmetik alami</td>\n",
       "      <td>Ekstrak tumbuhan, minyak esensial, bahan penga...</td>\n",
       "      <td>DI Yogyakarta</td>\n",
       "      <td>Sleman</td>\n",
       "      <td>Ngaglik</td>\n",
       "      <td>[-0.26963314, 0.03165753, 0.10507946, 0.289736...</td>\n",
       "    </tr>\n",
       "    <tr>\n",
       "      <th>...</th>\n",
       "      <td>...</td>\n",
       "      <td>...</td>\n",
       "      <td>...</td>\n",
       "      <td>...</td>\n",
       "      <td>...</td>\n",
       "      <td>...</td>\n",
       "      <td>...</td>\n",
       "      <td>...</td>\n",
       "      <td>...</td>\n",
       "    </tr>\n",
       "    <tr>\n",
       "      <th>245</th>\n",
       "      <td>246</td>\n",
       "      <td>Furniture</td>\n",
       "      <td>PT Furniture Nusantara</td>\n",
       "      <td>Produsen dan eksportir furniture kayu</td>\n",
       "      <td>Meja, kursi, lemari kayu</td>\n",
       "      <td>Kalimantan Tengah</td>\n",
       "      <td>Palangkaraya</td>\n",
       "      <td>Jekan Raya</td>\n",
       "      <td>[0.1433026, -0.074644275, 0.088546954, 0.08617...</td>\n",
       "    </tr>\n",
       "    <tr>\n",
       "      <th>246</th>\n",
       "      <td>247</td>\n",
       "      <td>Perikanan</td>\n",
       "      <td>CV Ikan Segar Papua</td>\n",
       "      <td>Distributor ikan segar dan hasil laut</td>\n",
       "      <td>Ikan tuna, udang, kepiting</td>\n",
       "      <td>Papua</td>\n",
       "      <td>Jayapura</td>\n",
       "      <td>Abepura</td>\n",
       "      <td>[0.054820742, -0.12274623, 0.26830766, -0.1747...</td>\n",
       "    </tr>\n",
       "    <tr>\n",
       "      <th>247</th>\n",
       "      <td>248</td>\n",
       "      <td>Elektronik</td>\n",
       "      <td>PT Elektronik Indonesia</td>\n",
       "      <td>Pemasok komponen elektronik dan gadget</td>\n",
       "      <td>Microcontroller, sensor, perangkat IoT</td>\n",
       "      <td>Banten</td>\n",
       "      <td>Tangerang</td>\n",
       "      <td>Serpong</td>\n",
       "      <td>[-0.24866237, 0.23206493, 0.18289655, -0.19972...</td>\n",
       "    </tr>\n",
       "    <tr>\n",
       "      <th>248</th>\n",
       "      <td>249</td>\n",
       "      <td>Otomotif</td>\n",
       "      <td>UD Otomotif Jaya</td>\n",
       "      <td>Distributor sparepart dan aksesoris otomotif</td>\n",
       "      <td>Velg, jok mobil, aksesori interior mobil</td>\n",
       "      <td>Jawa Barat</td>\n",
       "      <td>Bekasi</td>\n",
       "      <td>Jatiasih</td>\n",
       "      <td>[0.20127903, 0.005539076, 0.0068403957, -0.085...</td>\n",
       "    </tr>\n",
       "    <tr>\n",
       "      <th>249</th>\n",
       "      <td>250</td>\n",
       "      <td>Perkebunan</td>\n",
       "      <td>PT Teh Nusantara</td>\n",
       "      <td>Penghasil dan pemasok teh berkualitas</td>\n",
       "      <td>Daun teh hijau, teh hitam, teh oolong</td>\n",
       "      <td>Jawa Barat</td>\n",
       "      <td>Bandung</td>\n",
       "      <td>Cimenyan</td>\n",
       "      <td>[0.05423613, -0.23297556, -0.1250364, 0.294014...</td>\n",
       "    </tr>\n",
       "  </tbody>\n",
       "</table>\n",
       "<p>250 rows × 9 columns</p>\n",
       "</div>"
      ],
      "text/plain": [
       "      id      bidang                   supplier  \\\n",
       "0      1     Makanan     PT Sari Rasa Nusantara   \n",
       "1      2   Kerajinan           CV Anyaman Indah   \n",
       "2      3     Tekstil           UD Batik Pesisir   \n",
       "3      4   Pertanian       Koperasi Tani Makmur   \n",
       "4      5    Kosmetik  PT Herbal Alami Nusantara   \n",
       "..   ...         ...                        ...   \n",
       "245  246   Furniture     PT Furniture Nusantara   \n",
       "246  247   Perikanan        CV Ikan Segar Papua   \n",
       "247  248  Elektronik    PT Elektronik Indonesia   \n",
       "248  249    Otomotif           UD Otomotif Jaya   \n",
       "249  250  Perkebunan           PT Teh Nusantara   \n",
       "\n",
       "                                        deskripsi  \\\n",
       "0          Pemasok bahan baku makanan tradisional   \n",
       "1                Produsen anyaman bambu dan rotan   \n",
       "2                    Pengrajin kain batik pesisir   \n",
       "3                 Pemasok bibit dan pupuk organik   \n",
       "4              Produsen bahan baku kosmetik alami   \n",
       "..                                            ...   \n",
       "245         Produsen dan eksportir furniture kayu   \n",
       "246         Distributor ikan segar dan hasil laut   \n",
       "247        Pemasok komponen elektronik dan gadget   \n",
       "248  Distributor sparepart dan aksesoris otomotif   \n",
       "249         Penghasil dan pemasok teh berkualitas   \n",
       "\n",
       "                                                barang           provinsi  \\\n",
       "0              Tepung beras, santan kelapa, gula merah        Jawa Tengah   \n",
       "1                     Keranjang, tikar, furnitur rotan               Bali   \n",
       "2                   Kain batik, baju batik, syal batik         Jawa Barat   \n",
       "3          Bibit sayuran, pupuk kompos, alat pertanian         Jawa Timur   \n",
       "4    Ekstrak tumbuhan, minyak esensial, bahan penga...      DI Yogyakarta   \n",
       "..                                                 ...                ...   \n",
       "245                           Meja, kursi, lemari kayu  Kalimantan Tengah   \n",
       "246                         Ikan tuna, udang, kepiting              Papua   \n",
       "247             Microcontroller, sensor, perangkat IoT             Banten   \n",
       "248           Velg, jok mobil, aksesori interior mobil         Jawa Barat   \n",
       "249              Daun teh hijau, teh hitam, teh oolong         Jawa Barat   \n",
       "\n",
       "             kota    kecamatan  \\\n",
       "0       Surakarta      Laweyan   \n",
       "1         Gianyar         Ubud   \n",
       "2         Cirebon       Plered   \n",
       "3          Malang  Poncokusumo   \n",
       "4          Sleman      Ngaglik   \n",
       "..            ...          ...   \n",
       "245  Palangkaraya   Jekan Raya   \n",
       "246      Jayapura      Abepura   \n",
       "247     Tangerang      Serpong   \n",
       "248        Bekasi     Jatiasih   \n",
       "249       Bandung     Cimenyan   \n",
       "\n",
       "                                             Embedding  \n",
       "0    [0.01610491, -0.060287725, 0.07437204, 0.23463...  \n",
       "1    [-0.1377465, -0.034566272, 0.04939381, 0.37974...  \n",
       "2    [-0.052916575, 0.1702237, -0.05840788, 0.23018...  \n",
       "3    [-0.07467559, 0.13179857, 0.015916528, 0.06605...  \n",
       "4    [-0.26963314, 0.03165753, 0.10507946, 0.289736...  \n",
       "..                                                 ...  \n",
       "245  [0.1433026, -0.074644275, 0.088546954, 0.08617...  \n",
       "246  [0.054820742, -0.12274623, 0.26830766, -0.1747...  \n",
       "247  [-0.24866237, 0.23206493, 0.18289655, -0.19972...  \n",
       "248  [0.20127903, 0.005539076, 0.0068403957, -0.085...  \n",
       "249  [0.05423613, -0.23297556, -0.1250364, 0.294014...  \n",
       "\n",
       "[250 rows x 9 columns]"
      ]
     },
     "execution_count": 19,
     "metadata": {},
     "output_type": "execute_result"
    }
   ],
   "source": [
    "df_content['Embedding'] = [emb for emb in embeddings]\n",
    "df_content"
   ]
  },
  {
   "cell_type": "code",
   "execution_count": 27,
   "metadata": {},
   "outputs": [],
   "source": [
    "from sklearn.decomposition import PCA\n",
    "from sklearn.manifold import TSNE\n",
    "\n",
    "# pca = PCA(n_components=2)\n",
    "pca = TSNE(n_components=2)\n",
    "X_pca = pca.fit_transform(embeddings)"
   ]
  },
  {
   "cell_type": "code",
   "execution_count": 28,
   "metadata": {},
   "outputs": [
    {
     "data": {
      "text/html": [
       "<div>\n",
       "<style scoped>\n",
       "    .dataframe tbody tr th:only-of-type {\n",
       "        vertical-align: middle;\n",
       "    }\n",
       "\n",
       "    .dataframe tbody tr th {\n",
       "        vertical-align: top;\n",
       "    }\n",
       "\n",
       "    .dataframe thead th {\n",
       "        text-align: right;\n",
       "    }\n",
       "</style>\n",
       "<table border=\"1\" class=\"dataframe\">\n",
       "  <thead>\n",
       "    <tr style=\"text-align: right;\">\n",
       "      <th></th>\n",
       "      <th>id</th>\n",
       "      <th>bidang</th>\n",
       "      <th>supplier</th>\n",
       "      <th>deskripsi</th>\n",
       "      <th>barang</th>\n",
       "      <th>provinsi</th>\n",
       "      <th>kota</th>\n",
       "      <th>kecamatan</th>\n",
       "      <th>Embedding</th>\n",
       "      <th>PCA</th>\n",
       "    </tr>\n",
       "  </thead>\n",
       "  <tbody>\n",
       "    <tr>\n",
       "      <th>0</th>\n",
       "      <td>1</td>\n",
       "      <td>Makanan</td>\n",
       "      <td>PT Sari Rasa Nusantara</td>\n",
       "      <td>Pemasok bahan baku makanan tradisional</td>\n",
       "      <td>Tepung beras, santan kelapa, gula merah</td>\n",
       "      <td>Jawa Tengah</td>\n",
       "      <td>Surakarta</td>\n",
       "      <td>Laweyan</td>\n",
       "      <td>[0.01610491, -0.060287725, 0.07437204, 0.23463...</td>\n",
       "      <td>[-19.071507, 61.05772]</td>\n",
       "    </tr>\n",
       "    <tr>\n",
       "      <th>1</th>\n",
       "      <td>2</td>\n",
       "      <td>Kerajinan</td>\n",
       "      <td>CV Anyaman Indah</td>\n",
       "      <td>Produsen anyaman bambu dan rotan</td>\n",
       "      <td>Keranjang, tikar, furnitur rotan</td>\n",
       "      <td>Bali</td>\n",
       "      <td>Gianyar</td>\n",
       "      <td>Ubud</td>\n",
       "      <td>[-0.1377465, -0.034566272, 0.04939381, 0.37974...</td>\n",
       "      <td>[-23.088202, -78.69219]</td>\n",
       "    </tr>\n",
       "    <tr>\n",
       "      <th>2</th>\n",
       "      <td>3</td>\n",
       "      <td>Tekstil</td>\n",
       "      <td>UD Batik Pesisir</td>\n",
       "      <td>Pengrajin kain batik pesisir</td>\n",
       "      <td>Kain batik, baju batik, syal batik</td>\n",
       "      <td>Jawa Barat</td>\n",
       "      <td>Cirebon</td>\n",
       "      <td>Plered</td>\n",
       "      <td>[-0.052916575, 0.1702237, -0.05840788, 0.23018...</td>\n",
       "      <td>[7.654587, -71.246475]</td>\n",
       "    </tr>\n",
       "    <tr>\n",
       "      <th>3</th>\n",
       "      <td>4</td>\n",
       "      <td>Pertanian</td>\n",
       "      <td>Koperasi Tani Makmur</td>\n",
       "      <td>Pemasok bibit dan pupuk organik</td>\n",
       "      <td>Bibit sayuran, pupuk kompos, alat pertanian</td>\n",
       "      <td>Jawa Timur</td>\n",
       "      <td>Malang</td>\n",
       "      <td>Poncokusumo</td>\n",
       "      <td>[-0.07467559, 0.13179857, 0.015916528, 0.06605...</td>\n",
       "      <td>[-7.2591968, 110.378105]</td>\n",
       "    </tr>\n",
       "    <tr>\n",
       "      <th>4</th>\n",
       "      <td>5</td>\n",
       "      <td>Kosmetik</td>\n",
       "      <td>PT Herbal Alami Nusantara</td>\n",
       "      <td>Produsen bahan baku kosmetik alami</td>\n",
       "      <td>Ekstrak tumbuhan, minyak esensial, bahan penga...</td>\n",
       "      <td>DI Yogyakarta</td>\n",
       "      <td>Sleman</td>\n",
       "      <td>Ngaglik</td>\n",
       "      <td>[-0.26963314, 0.03165753, 0.10507946, 0.289736...</td>\n",
       "      <td>[69.34787, 27.829145]</td>\n",
       "    </tr>\n",
       "    <tr>\n",
       "      <th>...</th>\n",
       "      <td>...</td>\n",
       "      <td>...</td>\n",
       "      <td>...</td>\n",
       "      <td>...</td>\n",
       "      <td>...</td>\n",
       "      <td>...</td>\n",
       "      <td>...</td>\n",
       "      <td>...</td>\n",
       "      <td>...</td>\n",
       "      <td>...</td>\n",
       "    </tr>\n",
       "    <tr>\n",
       "      <th>245</th>\n",
       "      <td>246</td>\n",
       "      <td>Furniture</td>\n",
       "      <td>PT Furniture Nusantara</td>\n",
       "      <td>Produsen dan eksportir furniture kayu</td>\n",
       "      <td>Meja, kursi, lemari kayu</td>\n",
       "      <td>Kalimantan Tengah</td>\n",
       "      <td>Palangkaraya</td>\n",
       "      <td>Jekan Raya</td>\n",
       "      <td>[0.1433026, -0.074644275, 0.088546954, 0.08617...</td>\n",
       "      <td>[-89.61386, -99.17351]</td>\n",
       "    </tr>\n",
       "    <tr>\n",
       "      <th>246</th>\n",
       "      <td>247</td>\n",
       "      <td>Perikanan</td>\n",
       "      <td>CV Ikan Segar Papua</td>\n",
       "      <td>Distributor ikan segar dan hasil laut</td>\n",
       "      <td>Ikan tuna, udang, kepiting</td>\n",
       "      <td>Papua</td>\n",
       "      <td>Jayapura</td>\n",
       "      <td>Abepura</td>\n",
       "      <td>[0.054820742, -0.12274623, 0.26830766, -0.1747...</td>\n",
       "      <td>[-91.82911, 81.32788]</td>\n",
       "    </tr>\n",
       "    <tr>\n",
       "      <th>247</th>\n",
       "      <td>248</td>\n",
       "      <td>Elektronik</td>\n",
       "      <td>PT Elektronik Indonesia</td>\n",
       "      <td>Pemasok komponen elektronik dan gadget</td>\n",
       "      <td>Microcontroller, sensor, perangkat IoT</td>\n",
       "      <td>Banten</td>\n",
       "      <td>Tangerang</td>\n",
       "      <td>Serpong</td>\n",
       "      <td>[-0.24866237, 0.23206493, 0.18289655, -0.19972...</td>\n",
       "      <td>[-39.200752, -11.732681]</td>\n",
       "    </tr>\n",
       "    <tr>\n",
       "      <th>248</th>\n",
       "      <td>249</td>\n",
       "      <td>Otomotif</td>\n",
       "      <td>UD Otomotif Jaya</td>\n",
       "      <td>Distributor sparepart dan aksesoris otomotif</td>\n",
       "      <td>Velg, jok mobil, aksesori interior mobil</td>\n",
       "      <td>Jawa Barat</td>\n",
       "      <td>Bekasi</td>\n",
       "      <td>Jatiasih</td>\n",
       "      <td>[0.20127903, 0.005539076, 0.0068403957, -0.085...</td>\n",
       "      <td>[-68.9803, -9.700406]</td>\n",
       "    </tr>\n",
       "    <tr>\n",
       "      <th>249</th>\n",
       "      <td>250</td>\n",
       "      <td>Perkebunan</td>\n",
       "      <td>PT Teh Nusantara</td>\n",
       "      <td>Penghasil dan pemasok teh berkualitas</td>\n",
       "      <td>Daun teh hijau, teh hitam, teh oolong</td>\n",
       "      <td>Jawa Barat</td>\n",
       "      <td>Bandung</td>\n",
       "      <td>Cimenyan</td>\n",
       "      <td>[0.05423613, -0.23297556, -0.1250364, 0.294014...</td>\n",
       "      <td>[55.41164, 72.3086]</td>\n",
       "    </tr>\n",
       "  </tbody>\n",
       "</table>\n",
       "<p>250 rows × 10 columns</p>\n",
       "</div>"
      ],
      "text/plain": [
       "      id      bidang                   supplier  \\\n",
       "0      1     Makanan     PT Sari Rasa Nusantara   \n",
       "1      2   Kerajinan           CV Anyaman Indah   \n",
       "2      3     Tekstil           UD Batik Pesisir   \n",
       "3      4   Pertanian       Koperasi Tani Makmur   \n",
       "4      5    Kosmetik  PT Herbal Alami Nusantara   \n",
       "..   ...         ...                        ...   \n",
       "245  246   Furniture     PT Furniture Nusantara   \n",
       "246  247   Perikanan        CV Ikan Segar Papua   \n",
       "247  248  Elektronik    PT Elektronik Indonesia   \n",
       "248  249    Otomotif           UD Otomotif Jaya   \n",
       "249  250  Perkebunan           PT Teh Nusantara   \n",
       "\n",
       "                                        deskripsi  \\\n",
       "0          Pemasok bahan baku makanan tradisional   \n",
       "1                Produsen anyaman bambu dan rotan   \n",
       "2                    Pengrajin kain batik pesisir   \n",
       "3                 Pemasok bibit dan pupuk organik   \n",
       "4              Produsen bahan baku kosmetik alami   \n",
       "..                                            ...   \n",
       "245         Produsen dan eksportir furniture kayu   \n",
       "246         Distributor ikan segar dan hasil laut   \n",
       "247        Pemasok komponen elektronik dan gadget   \n",
       "248  Distributor sparepart dan aksesoris otomotif   \n",
       "249         Penghasil dan pemasok teh berkualitas   \n",
       "\n",
       "                                                barang           provinsi  \\\n",
       "0              Tepung beras, santan kelapa, gula merah        Jawa Tengah   \n",
       "1                     Keranjang, tikar, furnitur rotan               Bali   \n",
       "2                   Kain batik, baju batik, syal batik         Jawa Barat   \n",
       "3          Bibit sayuran, pupuk kompos, alat pertanian         Jawa Timur   \n",
       "4    Ekstrak tumbuhan, minyak esensial, bahan penga...      DI Yogyakarta   \n",
       "..                                                 ...                ...   \n",
       "245                           Meja, kursi, lemari kayu  Kalimantan Tengah   \n",
       "246                         Ikan tuna, udang, kepiting              Papua   \n",
       "247             Microcontroller, sensor, perangkat IoT             Banten   \n",
       "248           Velg, jok mobil, aksesori interior mobil         Jawa Barat   \n",
       "249              Daun teh hijau, teh hitam, teh oolong         Jawa Barat   \n",
       "\n",
       "             kota    kecamatan  \\\n",
       "0       Surakarta      Laweyan   \n",
       "1         Gianyar         Ubud   \n",
       "2         Cirebon       Plered   \n",
       "3          Malang  Poncokusumo   \n",
       "4          Sleman      Ngaglik   \n",
       "..            ...          ...   \n",
       "245  Palangkaraya   Jekan Raya   \n",
       "246      Jayapura      Abepura   \n",
       "247     Tangerang      Serpong   \n",
       "248        Bekasi     Jatiasih   \n",
       "249       Bandung     Cimenyan   \n",
       "\n",
       "                                             Embedding  \\\n",
       "0    [0.01610491, -0.060287725, 0.07437204, 0.23463...   \n",
       "1    [-0.1377465, -0.034566272, 0.04939381, 0.37974...   \n",
       "2    [-0.052916575, 0.1702237, -0.05840788, 0.23018...   \n",
       "3    [-0.07467559, 0.13179857, 0.015916528, 0.06605...   \n",
       "4    [-0.26963314, 0.03165753, 0.10507946, 0.289736...   \n",
       "..                                                 ...   \n",
       "245  [0.1433026, -0.074644275, 0.088546954, 0.08617...   \n",
       "246  [0.054820742, -0.12274623, 0.26830766, -0.1747...   \n",
       "247  [-0.24866237, 0.23206493, 0.18289655, -0.19972...   \n",
       "248  [0.20127903, 0.005539076, 0.0068403957, -0.085...   \n",
       "249  [0.05423613, -0.23297556, -0.1250364, 0.294014...   \n",
       "\n",
       "                          PCA  \n",
       "0      [-19.071507, 61.05772]  \n",
       "1     [-23.088202, -78.69219]  \n",
       "2      [7.654587, -71.246475]  \n",
       "3    [-7.2591968, 110.378105]  \n",
       "4       [69.34787, 27.829145]  \n",
       "..                        ...  \n",
       "245    [-89.61386, -99.17351]  \n",
       "246     [-91.82911, 81.32788]  \n",
       "247  [-39.200752, -11.732681]  \n",
       "248     [-68.9803, -9.700406]  \n",
       "249       [55.41164, 72.3086]  \n",
       "\n",
       "[250 rows x 10 columns]"
      ]
     },
     "execution_count": 28,
     "metadata": {},
     "output_type": "execute_result"
    }
   ],
   "source": [
    "df_content['PCA'] = [a for a in X_pca]\n",
    "df_content"
   ]
  },
  {
   "cell_type": "code",
   "execution_count": 31,
   "metadata": {},
   "outputs": [
    {
     "name": "stderr",
     "output_type": "stream",
     "text": [
      "/var/folders/n2/9hl8ftpn3j379grs52lt_3q80000gn/T/ipykernel_7048/2887620416.py:2: SettingWithCopyWarning:\n",
      "\n",
      "\n",
      "A value is trying to be set on a copy of a slice from a DataFrame.\n",
      "Try using .loc[row_indexer,col_indexer] = value instead\n",
      "\n",
      "See the caveats in the documentation: https://pandas.pydata.org/pandas-docs/stable/user_guide/indexing.html#returning-a-view-versus-a-copy\n",
      "\n",
      "/var/folders/n2/9hl8ftpn3j379grs52lt_3q80000gn/T/ipykernel_7048/2887620416.py:2: SettingWithCopyWarning:\n",
      "\n",
      "\n",
      "A value is trying to be set on a copy of a slice from a DataFrame.\n",
      "Try using .loc[row_indexer,col_indexer] = value instead\n",
      "\n",
      "See the caveats in the documentation: https://pandas.pydata.org/pandas-docs/stable/user_guide/indexing.html#returning-a-view-versus-a-copy\n",
      "\n"
     ]
    },
    {
     "data": {
      "text/html": [
       "<div>\n",
       "<style scoped>\n",
       "    .dataframe tbody tr th:only-of-type {\n",
       "        vertical-align: middle;\n",
       "    }\n",
       "\n",
       "    .dataframe tbody tr th {\n",
       "        vertical-align: top;\n",
       "    }\n",
       "\n",
       "    .dataframe thead th {\n",
       "        text-align: right;\n",
       "    }\n",
       "</style>\n",
       "<table border=\"1\" class=\"dataframe\">\n",
       "  <thead>\n",
       "    <tr style=\"text-align: right;\">\n",
       "      <th></th>\n",
       "      <th>deskripsi</th>\n",
       "      <th>bidang</th>\n",
       "      <th>PCA</th>\n",
       "      <th>x</th>\n",
       "      <th>y</th>\n",
       "    </tr>\n",
       "  </thead>\n",
       "  <tbody>\n",
       "    <tr>\n",
       "      <th>0</th>\n",
       "      <td>Pemasok bahan baku makanan tradisional</td>\n",
       "      <td>Makanan</td>\n",
       "      <td>[-19.071507, 61.05772]</td>\n",
       "      <td>-19.071507</td>\n",
       "      <td>61.057720</td>\n",
       "    </tr>\n",
       "    <tr>\n",
       "      <th>1</th>\n",
       "      <td>Produsen anyaman bambu dan rotan</td>\n",
       "      <td>Kerajinan</td>\n",
       "      <td>[-23.088202, -78.69219]</td>\n",
       "      <td>-23.088202</td>\n",
       "      <td>-78.692192</td>\n",
       "    </tr>\n",
       "    <tr>\n",
       "      <th>2</th>\n",
       "      <td>Pengrajin kain batik pesisir</td>\n",
       "      <td>Tekstil</td>\n",
       "      <td>[7.654587, -71.246475]</td>\n",
       "      <td>7.654587</td>\n",
       "      <td>-71.246475</td>\n",
       "    </tr>\n",
       "    <tr>\n",
       "      <th>3</th>\n",
       "      <td>Pemasok bibit dan pupuk organik</td>\n",
       "      <td>Pertanian</td>\n",
       "      <td>[-7.2591968, 110.378105]</td>\n",
       "      <td>-7.259197</td>\n",
       "      <td>110.378105</td>\n",
       "    </tr>\n",
       "    <tr>\n",
       "      <th>4</th>\n",
       "      <td>Produsen bahan baku kosmetik alami</td>\n",
       "      <td>Kosmetik</td>\n",
       "      <td>[69.34787, 27.829145]</td>\n",
       "      <td>69.347870</td>\n",
       "      <td>27.829145</td>\n",
       "    </tr>\n",
       "    <tr>\n",
       "      <th>...</th>\n",
       "      <td>...</td>\n",
       "      <td>...</td>\n",
       "      <td>...</td>\n",
       "      <td>...</td>\n",
       "      <td>...</td>\n",
       "    </tr>\n",
       "    <tr>\n",
       "      <th>245</th>\n",
       "      <td>Produsen dan eksportir furniture kayu</td>\n",
       "      <td>Furniture</td>\n",
       "      <td>[-89.61386, -99.17351]</td>\n",
       "      <td>-89.613861</td>\n",
       "      <td>-99.173508</td>\n",
       "    </tr>\n",
       "    <tr>\n",
       "      <th>246</th>\n",
       "      <td>Distributor ikan segar dan hasil laut</td>\n",
       "      <td>Perikanan</td>\n",
       "      <td>[-91.82911, 81.32788]</td>\n",
       "      <td>-91.829109</td>\n",
       "      <td>81.327881</td>\n",
       "    </tr>\n",
       "    <tr>\n",
       "      <th>247</th>\n",
       "      <td>Pemasok komponen elektronik dan gadget</td>\n",
       "      <td>Elektronik</td>\n",
       "      <td>[-39.200752, -11.732681]</td>\n",
       "      <td>-39.200752</td>\n",
       "      <td>-11.732681</td>\n",
       "    </tr>\n",
       "    <tr>\n",
       "      <th>248</th>\n",
       "      <td>Distributor sparepart dan aksesoris otomotif</td>\n",
       "      <td>Otomotif</td>\n",
       "      <td>[-68.9803, -9.700406]</td>\n",
       "      <td>-68.980301</td>\n",
       "      <td>-9.700406</td>\n",
       "    </tr>\n",
       "    <tr>\n",
       "      <th>249</th>\n",
       "      <td>Penghasil dan pemasok teh berkualitas</td>\n",
       "      <td>Perkebunan</td>\n",
       "      <td>[55.41164, 72.3086]</td>\n",
       "      <td>55.411640</td>\n",
       "      <td>72.308601</td>\n",
       "    </tr>\n",
       "  </tbody>\n",
       "</table>\n",
       "<p>250 rows × 5 columns</p>\n",
       "</div>"
      ],
      "text/plain": [
       "                                        deskripsi      bidang  \\\n",
       "0          Pemasok bahan baku makanan tradisional     Makanan   \n",
       "1                Produsen anyaman bambu dan rotan   Kerajinan   \n",
       "2                    Pengrajin kain batik pesisir     Tekstil   \n",
       "3                 Pemasok bibit dan pupuk organik   Pertanian   \n",
       "4              Produsen bahan baku kosmetik alami    Kosmetik   \n",
       "..                                            ...         ...   \n",
       "245         Produsen dan eksportir furniture kayu   Furniture   \n",
       "246         Distributor ikan segar dan hasil laut   Perikanan   \n",
       "247        Pemasok komponen elektronik dan gadget  Elektronik   \n",
       "248  Distributor sparepart dan aksesoris otomotif    Otomotif   \n",
       "249         Penghasil dan pemasok teh berkualitas  Perkebunan   \n",
       "\n",
       "                          PCA          x           y  \n",
       "0      [-19.071507, 61.05772] -19.071507   61.057720  \n",
       "1     [-23.088202, -78.69219] -23.088202  -78.692192  \n",
       "2      [7.654587, -71.246475]   7.654587  -71.246475  \n",
       "3    [-7.2591968, 110.378105]  -7.259197  110.378105  \n",
       "4       [69.34787, 27.829145]  69.347870   27.829145  \n",
       "..                        ...        ...         ...  \n",
       "245    [-89.61386, -99.17351] -89.613861  -99.173508  \n",
       "246     [-91.82911, 81.32788] -91.829109   81.327881  \n",
       "247  [-39.200752, -11.732681] -39.200752  -11.732681  \n",
       "248     [-68.9803, -9.700406] -68.980301   -9.700406  \n",
       "249       [55.41164, 72.3086]  55.411640   72.308601  \n",
       "\n",
       "[250 rows x 5 columns]"
      ]
     },
     "execution_count": 31,
     "metadata": {},
     "output_type": "execute_result"
    }
   ],
   "source": [
    "df_vis = df_content[['deskripsi', 'bidang', 'PCA']]\n",
    "df_vis[['x', 'y']] = df_vis['PCA'].apply(lambda val: pd.Series([val[0], val[1]]))\n",
    "df_vis"
   ]
  },
  {
   "cell_type": "code",
   "execution_count": 67,
   "metadata": {},
   "outputs": [],
   "source": [
    "df_vis.drop(columns=['PCA']).to_csv('pca.csv')"
   ]
  },
  {
   "cell_type": "code",
   "execution_count": 33,
   "metadata": {},
   "outputs": [
    {
     "data": {
      "application/vnd.plotly.v1+json": {
       "config": {
        "plotlyServerURL": "https://plot.ly"
       },
       "data": [
        {
         "customdata": [
          [
           "Pemasok bahan baku makanan tradisional"
          ],
          [
           "Supplier bahan baku makanan"
          ],
          [
           "Supplier bahan pangan"
          ],
          [
           "Supplier tepung untuk makanan"
          ],
          [
           "Supplier bahan baku makanan laut"
          ],
          [
           "Supplier bahan baku sayuran"
          ],
          [
           "Supplier biji-bijian"
          ],
          [
           "Supplier daging"
          ],
          [
           "Supplier bahan baku unggas"
          ],
          [
           "Supplier produk olahan susu"
          ],
          [
           "Supplier rempah-rempah"
          ],
          [
           "Supplier biji-bijian ekspor"
          ],
          [
           "Supplier bahan baku organik"
          ],
          [
           "Supplier bahan makanan beku"
          ],
          [
           "Supplier hasil laut"
          ],
          [
           "Supplier produk unggas"
          ],
          [
           "Supplier kacang-kacangan"
          ],
          [
           "Supplier sayuran segar"
          ],
          [
           "Supplier buah segar"
          ],
          [
           "Supplier bahan untuk bakery"
          ],
          [
           "Supplier bahan untuk snack"
          ],
          [
           "Supplier bahan baku sereal"
          ],
          [
           "Supplier produk daging"
          ],
          [
           "Supplier makanan laut beku"
          ],
          [
           "Supplier bahan baku mie"
          ],
          [
           "Supplier bahan perasa untuk makanan"
          ],
          [
           "Supplier bahan baku bumbu"
          ],
          [
           "Pemasok bahan baku makanan tradisional"
          ],
          [
           "Produsen makanan olahan dan camilan tradisional"
          ]
         ],
         "hovertemplate": "bidang=Makanan<br>x=%{x}<br>y=%{y}<br>deskripsi=%{customdata[0]}<extra></extra>",
         "legendgroup": "Makanan",
         "marker": {
          "color": "#636efa",
          "symbol": "circle"
         },
         "mode": "markers",
         "name": "Makanan",
         "orientation": "v",
         "showlegend": true,
         "type": "scatter",
         "x": [
          -19.07150650024414,
          -50.26495361328125,
          -58.85853576660156,
          -37.826446533203125,
          -83.21204376220703,
          -56.88079833984375,
          -55.89098358154297,
          39.60640335083008,
          -46.245018005371094,
          49.136940002441406,
          -34.918697357177734,
          -63.1091194152832,
          -30.90703582763672,
          -51.909664154052734,
          -81.71333312988281,
          -53.55769348144531,
          -60.98005676269531,
          -59.85240173339844,
          -61.48179244995117,
          -35.76192092895508,
          -43.76810073852539,
          -45.797401428222656,
          37.516868591308594,
          -76.99954223632812,
          -25.04909896850586,
          -44.107608795166016,
          -48.14041519165039,
          -25.393789291381836,
          -23.770648956298828
         ],
         "xaxis": "x",
         "y": [
          61.05772018432617,
          74.44559478759766,
          76.1856460571289,
          58.877506256103516,
          75.13504028320312,
          99.81420135498047,
          46.659271240234375,
          28.39968490600586,
          44.340057373046875,
          97.29895782470703,
          42.96118927001953,
          48.504825592041016,
          106.56404876708984,
          67.98619842529297,
          84.07402038574219,
          33.437950134277344,
          63.245323181152344,
          105.00868225097656,
          89.82827758789062,
          74.98773956298828,
          82.3772201538086,
          52.702144622802734,
          33.70039749145508,
          76.62022399902344,
          33.404510498046875,
          69.37442779541016,
          61.47297668457031,
          59.72978591918945,
          66.88047790527344
         ],
         "yaxis": "y"
        },
        {
         "customdata": [
          [
           "Produsen anyaman bambu dan rotan"
          ],
          [
           "Produsen anyaman bambu dan rotan"
          ],
          [
           "Pengrajin souvenir dan kerajinan tangan"
          ]
         ],
         "hovertemplate": "bidang=Kerajinan<br>x=%{x}<br>y=%{y}<br>deskripsi=%{customdata[0]}<extra></extra>",
         "legendgroup": "Kerajinan",
         "marker": {
          "color": "#EF553B",
          "symbol": "circle"
         },
         "mode": "markers",
         "name": "Kerajinan",
         "orientation": "v",
         "showlegend": true,
         "type": "scatter",
         "x": [
          -23.08820152282715,
          -19.830623626708984,
          20.878089904785156
         ],
         "xaxis": "x",
         "y": [
          -78.69219207763672,
          -74.48265838623047,
          25.0376033782959
         ],
         "yaxis": "y"
        },
        {
         "customdata": [
          [
           "Pengrajin kain batik pesisir"
          ],
          [
           "Pengrajin kain batik pesisir"
          ],
          [
           "Produsen kain dan tekstil"
          ]
         ],
         "hovertemplate": "bidang=Tekstil<br>x=%{x}<br>y=%{y}<br>deskripsi=%{customdata[0]}<extra></extra>",
         "legendgroup": "Tekstil",
         "marker": {
          "color": "#00cc96",
          "symbol": "circle"
         },
         "mode": "markers",
         "name": "Tekstil",
         "orientation": "v",
         "showlegend": true,
         "type": "scatter",
         "x": [
          7.6545867919921875,
          12.896300315856934,
          14.037142753601074
         ],
         "xaxis": "x",
         "y": [
          -71.24647521972656,
          -70.12313079833984,
          -114.65373992919922
         ],
         "yaxis": "y"
        },
        {
         "customdata": [
          [
           "Pemasok bibit dan pupuk organik"
          ],
          [
           "Pemasok bibit dan pupuk organik"
          ],
          [
           "Pemasok hasil pertanian organik"
          ]
         ],
         "hovertemplate": "bidang=Pertanian<br>x=%{x}<br>y=%{y}<br>deskripsi=%{customdata[0]}<extra></extra>",
         "legendgroup": "Pertanian",
         "marker": {
          "color": "#ab63fa",
          "symbol": "circle"
         },
         "mode": "markers",
         "name": "Pertanian",
         "orientation": "v",
         "showlegend": true,
         "type": "scatter",
         "x": [
          -7.259196758270264,
          -13.134406089782715,
          -21.722545623779297
         ],
         "xaxis": "x",
         "y": [
          110.37810516357422,
          112.17826843261719,
          116.96049499511719
         ],
         "yaxis": "y"
        },
        {
         "customdata": [
          [
           "Produsen bahan baku kosmetik alami"
          ],
          [
           "Produsen bahan baku kosmetik alami"
          ],
          [
           "Produsen bahan baku kosmetik dari bahan alam"
          ]
         ],
         "hovertemplate": "bidang=Kosmetik<br>x=%{x}<br>y=%{y}<br>deskripsi=%{customdata[0]}<extra></extra>",
         "legendgroup": "Kosmetik",
         "marker": {
          "color": "#FFA15A",
          "symbol": "circle"
         },
         "mode": "markers",
         "name": "Kosmetik",
         "orientation": "v",
         "showlegend": true,
         "type": "scatter",
         "x": [
          69.34786987304688,
          74.53076171875,
          67.57382202148438
         ],
         "xaxis": "x",
         "y": [
          27.829145431518555,
          23.804677963256836,
          21.078163146972656
         ],
         "yaxis": "y"
        },
        {
         "customdata": [
          [
           "Pemasok kayu jati berkualitas"
          ],
          [
           "Supplier kayu untuk furniture"
          ],
          [
           "Supplier kayu solid"
          ],
          [
           "Supplier kayu keras"
          ],
          [
           "Supplier bahan mentah untuk furniture"
          ],
          [
           "Supplier bahan kayu"
          ],
          [
           "Supplier kayu untuk pembuatan furniture"
          ],
          [
           "Supplier kayu solid"
          ],
          [
           "Supplier bahan kayu"
          ],
          [
           "Supplier kayu keras"
          ],
          [
           "Supplier kayu solid"
          ],
          [
           "Supplier kayu untuk pembuatan furniture"
          ],
          [
           "Supplier bahan kayu"
          ],
          [
           "Supplier kayu untuk furniture"
          ],
          [
           "Supplier kayu keras"
          ],
          [
           "Supplier bahan kayu"
          ],
          [
           "Supplier kayu solid"
          ],
          [
           "Supplier kayu keras"
          ],
          [
           "Supplier kayu untuk pembuatan furniture"
          ],
          [
           "Supplier kayu solid"
          ],
          [
           "Supplier kayu untuk furniture"
          ],
          [
           "Supplier bahan kayu"
          ],
          [
           "Supplier kayu untuk furniture"
          ],
          [
           "Supplier kayu keras"
          ],
          [
           "Supplier bahan kayu"
          ],
          [
           "Pemasok kayu jati berkualitas"
          ],
          [
           "Produsen dan eksportir furniture kayu"
          ]
         ],
         "hovertemplate": "bidang=Furniture<br>x=%{x}<br>y=%{y}<br>deskripsi=%{customdata[0]}<extra></extra>",
         "legendgroup": "Furniture",
         "marker": {
          "color": "#19d3f3",
          "symbol": "circle"
         },
         "mode": "markers",
         "name": "Furniture",
         "orientation": "v",
         "showlegend": true,
         "type": "scatter",
         "x": [
          -46.64046096801758,
          -77.4162826538086,
          -116.96815490722656,
          -89.62699127197266,
          -65.3695297241211,
          -104.76831817626953,
          -78.80851745605469,
          -116.96815490722656,
          -95.0900650024414,
          -98.2115707397461,
          -116.96815490722656,
          -78.80851745605469,
          -96.05099487304688,
          -77.4162826538086,
          -98.2115707397461,
          -104.76831817626953,
          -116.96815490722656,
          -107.38333892822266,
          -78.80851745605469,
          -116.96815490722656,
          -77.4162826538086,
          -95.0900650024414,
          -77.4162826538086,
          -103.97354125976562,
          -104.76831817626953,
          -42.29092025756836,
          -89.61386108398438
         ],
         "xaxis": "x",
         "y": [
          -48.59675598144531,
          -96.1776123046875,
          -72.60818481445312,
          -68.11387634277344,
          -89.36679077148438,
          -82.62311553955078,
          -85.07852172851562,
          -72.60818481445312,
          -77.25230407714844,
          -64.40467834472656,
          -72.60818481445312,
          -85.07852172851562,
          -87.37615203857422,
          -96.1776123046875,
          -64.40467834472656,
          -82.62311553955078,
          -72.60818481445312,
          -61.95915985107422,
          -85.07852172851562,
          -72.60818481445312,
          -96.1776123046875,
          -77.25230407714844,
          -96.1776123046875,
          -71.2880859375,
          -82.62311553955078,
          -52.51365280151367,
          -99.17350769042969
         ],
         "yaxis": "y"
        },
        {
         "customdata": [
          [
           "Distributor ikan segar dan olahan"
          ],
          [
           "Distributor ikan segar dan olahan"
          ],
          [
           "Distributor ikan segar dan hasil laut"
          ]
         ],
         "hovertemplate": "bidang=Perikanan<br>x=%{x}<br>y=%{y}<br>deskripsi=%{customdata[0]}<extra></extra>",
         "legendgroup": "Perikanan",
         "marker": {
          "color": "#FF6692",
          "symbol": "circle"
         },
         "mode": "markers",
         "name": "Perikanan",
         "orientation": "v",
         "showlegend": true,
         "type": "scatter",
         "x": [
          -98.19219207763672,
          -93.05757904052734,
          -91.82910919189453
         ],
         "xaxis": "x",
         "y": [
          77.53512573242188,
          73.17414855957031,
          81.327880859375
         ],
         "yaxis": "y"
        },
        {
         "customdata": [
          [
           "Pemasok komponen elektronik"
          ],
          [
           "Pemasok komponen elektronik"
          ],
          [
           "Pemasok komponen elektronik dan gadget"
          ]
         ],
         "hovertemplate": "bidang=Elektronik<br>x=%{x}<br>y=%{y}<br>deskripsi=%{customdata[0]}<extra></extra>",
         "legendgroup": "Elektronik",
         "marker": {
          "color": "#B6E880",
          "symbol": "circle"
         },
         "mode": "markers",
         "name": "Elektronik",
         "orientation": "v",
         "showlegend": true,
         "type": "scatter",
         "x": [
          -40.242210388183594,
          -34.225589752197266,
          -39.20075225830078
         ],
         "xaxis": "x",
         "y": [
          -4.326487064361572,
          -5.859442710876465,
          -11.732681274414062
         ],
         "yaxis": "y"
        },
        {
         "customdata": [
          [
           "Distributor suku cadang kendaraan"
          ],
          [
           "Supplier komponen otomotif"
          ],
          [
           "Menyediakan bahan baku logam"
          ],
          [
           "Supplier bahan karet"
          ],
          [
           "Menyediakan komponen logam"
          ],
          [
           "Supplier bahan plastik"
          ],
          [
           "Menyediakan komponen mesin"
          ],
          [
           "Supplier bahan kimia untuk otomotif"
          ],
          [
           "Menyediakan kaca otomotif"
          ],
          [
           "Supplier baterai untuk otomotif"
          ],
          [
           "Menyediakan velg alloy"
          ],
          [
           "Supplier komponen rem"
          ],
          [
           "Menyediakan sistem bahan bakar"
          ],
          [
           "Supplier komponen knalpot"
          ],
          [
           "Menyediakan komponen suspensi"
          ],
          [
           "Supplier bahan interior otomotif"
          ],
          [
           "Menyediakan kabel dan sistem kelistrikan"
          ],
          [
           "Supplier komponen pencahayaan otomotif"
          ],
          [
           "Menyediakan sistem penggerak"
          ],
          [
           "Supplier komponen pendingin"
          ],
          [
           "Menyediakan komponen transmisi"
          ],
          [
           "Supplier pelumas otomotif"
          ],
          [
           "Distributor suku cadang kendaraan"
          ],
          [
           "Distributor sparepart dan aksesoris otomotif"
          ]
         ],
         "hovertemplate": "bidang=Otomotif<br>x=%{x}<br>y=%{y}<br>deskripsi=%{customdata[0]}<extra></extra>",
         "legendgroup": "Otomotif",
         "marker": {
          "color": "#FF97FF",
          "symbol": "circle"
         },
         "mode": "markers",
         "name": "Otomotif",
         "orientation": "v",
         "showlegend": true,
         "type": "scatter",
         "x": [
          -82.34404754638672,
          -77.76143646240234,
          -14.141399383544922,
          -44.73005676269531,
          -18.192659378051758,
          -7.010275363922119,
          -34.10686111450195,
          -88.48926544189453,
          -12.987347602844238,
          -62.590232849121094,
          -7.942831516265869,
          -68.88326263427734,
          -34.8300666809082,
          -63.297210693359375,
          -24.428529739379883,
          -84.9836654663086,
          -46.42914962768555,
          -93.72230529785156,
          -24.110015869140625,
          -71.33405303955078,
          -46.39366149902344,
          -76.58527374267578,
          -77.38220977783203,
          -68.98030090332031
         ],
         "xaxis": "x",
         "y": [
          -10.781158447265625,
          5.241476535797119,
          -0.5469860434532166,
          36.336692810058594,
          -5.339234828948975,
          -48.858795166015625,
          7.755026340484619,
          11.891685485839844,
          34.159366607666016,
          0.09643273055553436,
          -7.953178405761719,
          15.336795806884766,
          19.981313705444336,
          17.627920150756836,
          9.508089065551758,
          1.4993900060653687,
          13.083015441894531,
          -6.190759658813477,
          21.84296417236328,
          24.027414321899414,
          6.004882335662842,
          -4.1693596839904785,
          -14.483606338500977,
          -9.700406074523926
         ],
         "yaxis": "y"
        },
        {
         "customdata": [
          [
           "Penghasil biji kopi arabika berkualitas"
          ],
          [
           "Penghasil biji kopi arabika berkualitas"
          ],
          [
           "Penghasil dan pemasok teh berkualitas"
          ]
         ],
         "hovertemplate": "bidang=Perkebunan<br>x=%{x}<br>y=%{y}<br>deskripsi=%{customdata[0]}<extra></extra>",
         "legendgroup": "Perkebunan",
         "marker": {
          "color": "#FECB52",
          "symbol": "circle"
         },
         "mode": "markers",
         "name": "Perkebunan",
         "orientation": "v",
         "showlegend": true,
         "type": "scatter",
         "x": [
          42.928794860839844,
          42.928794860839844,
          55.41164016723633
         ],
         "xaxis": "x",
         "y": [
          57.03653335571289,
          57.03653335571289,
          72.30860137939453
         ],
         "yaxis": "y"
        },
        {
         "customdata": [
          [
           "Menyediakan berbagai macam alat tulis seperti pensil, penghapus, stapler, dan kertas untuk kebutuhan sekolah dan kantor"
          ]
         ],
         "hovertemplate": "bidang=Supplier Alat Tulis Kantor<br>x=%{x}<br>y=%{y}<br>deskripsi=%{customdata[0]}<extra></extra>",
         "legendgroup": "Supplier Alat Tulis Kantor",
         "marker": {
          "color": "#636efa",
          "symbol": "circle"
         },
         "mode": "markers",
         "name": "Supplier Alat Tulis Kantor",
         "orientation": "v",
         "showlegend": true,
         "type": "scatter",
         "x": [
          16.662464141845703
         ],
         "xaxis": "x",
         "y": [
          3.8127243518829346
         ],
         "yaxis": "y"
        },
        {
         "customdata": [
          [
           "Menyediakan berbagai jenis kain"
          ],
          [
           "Menjual kain tradisional Bali"
          ],
          [
           "Penyedia berbagai jenis kain"
          ],
          [
           "Menyediakan berbagai jenis kain"
          ],
          [
           "Menjual kain berkualitas tinggi"
          ],
          [
           "Menjual kain premium"
          ],
          [
           "Menjual kain tradisional Maluku"
          ],
          [
           "Menjual berbagai jenis kain"
          ],
          [
           "Menjual kain berkualitas tinggi"
          ],
          [
           "Menjual kain premium"
          ],
          [
           "Menjual kain tradisional NTT"
          ],
          [
           "Menjual kain premium"
          ],
          [
           "Menyediakan berbagai jenis kain"
          ],
          [
           "Menyediakan berbagai jenis kain"
          ],
          [
           "Menjual kain tradisional Bali"
          ],
          [
           "Penyedia berbagai jenis kain"
          ],
          [
           "Menyediakan berbagai jenis kain"
          ],
          [
           "Menjual kain berkualitas tinggi"
          ],
          [
           "Menjual kain premium"
          ],
          [
           "Menjual kain tradisional Maluku"
          ],
          [
           "Menjual berbagai jenis kain"
          ],
          [
           "Menjual kain berkualitas tinggi"
          ],
          [
           "Menjual kain premium"
          ],
          [
           "Menjual kain tradisional Papua"
          ]
         ],
         "hovertemplate": "bidang=Kain<br>x=%{x}<br>y=%{y}<br>deskripsi=%{customdata[0]}<extra></extra>",
         "legendgroup": "Kain",
         "marker": {
          "color": "#EF553B",
          "symbol": "circle"
         },
         "mode": "markers",
         "name": "Kain",
         "orientation": "v",
         "showlegend": true,
         "type": "scatter",
         "x": [
          47.73701095581055,
          93.59947204589844,
          35.48490905761719,
          42.712162017822266,
          76.23208618164062,
          90.96466827392578,
          101.96778869628906,
          67.74525451660156,
          76.23208618164062,
          90.96466827392578,
          79.59700012207031,
          90.96466827392578,
          34.49437713623047,
          33.86447525024414,
          98.9495620727539,
          35.48490905761719,
          42.712162017822266,
          76.23208618164062,
          90.96466827392578,
          101.96778869628906,
          67.74525451660156,
          83.70030212402344,
          90.96466827392578,
          92.25537872314453
         ],
         "xaxis": "x",
         "y": [
          -129.72901916503906,
          -93.04373168945312,
          -131.50515747070312,
          -121.46844482421875,
          -58.195899963378906,
          -45.99763870239258,
          -73.25000762939453,
          -68.90218353271484,
          -58.195899963378906,
          -45.99763870239258,
          -72.11312866210938,
          -45.99763870239258,
          -107.14569854736328,
          -120.65931701660156,
          -90.892333984375,
          -131.50515747070312,
          -121.46844482421875,
          -58.195899963378906,
          -45.99763870239258,
          -73.25000762939453,
          -68.90218353271484,
          -62.09376907348633,
          -45.99763870239258,
          -83.50395965576172
         ],
         "yaxis": "y"
        },
        {
         "customdata": [
          [
           "Pabrik benang berkualitas tinggi"
          ],
          [
           "Pabrik benang rajut berkualitas tinggi"
          ],
          [
           "Pemasok benang berkualitas"
          ],
          [
           "Pemasok benang berkualitas"
          ],
          [
           "Pemasok benang berkualitas tinggi"
          ],
          [
           "Pabrik benang rajut berkualitas tinggi"
          ],
          [
           "Pabrik benang berkualitas tinggi"
          ],
          [
           "Pabrik benang berkualitas tinggi"
          ],
          [
           "Pabrik benang rajut berkualitas tinggi"
          ],
          [
           "Pemasok benang berkualitas"
          ],
          [
           "Pemasok benang berkualitas"
          ]
         ],
         "hovertemplate": "bidang=Benang<br>x=%{x}<br>y=%{y}<br>deskripsi=%{customdata[0]}<extra></extra>",
         "legendgroup": "Benang",
         "marker": {
          "color": "#00cc96",
          "symbol": "circle"
         },
         "mode": "markers",
         "name": "Benang",
         "orientation": "v",
         "showlegend": true,
         "type": "scatter",
         "x": [
          -22.435373306274414,
          -20.600055694580078,
          2.428314447402954,
          2.428314447402954,
          8.942937850952148,
          -28.131174087524414,
          -27.97780418395996,
          -19.918903350830078,
          -28.131174087524414,
          10.083029747009277,
          1.799201488494873
         ],
         "xaxis": "x",
         "y": [
          -40.30906295776367,
          -23.255130767822266,
          33.5987663269043,
          33.5987663269043,
          22.218271255493164,
          -25.021501541137695,
          -35.596466064453125,
          -33.46660232543945,
          -25.021501541137695,
          30.884479522705078,
          25.62531852722168
         ],
         "yaxis": "y"
        },
        {
         "customdata": [
          [
           "Menjual alat-alat jahit dan aksesori"
          ],
          [
           "Menjual alat-alat jahit dan aksesori"
          ]
         ],
         "hovertemplate": "bidang=Alat Jahit<br>x=%{x}<br>y=%{y}<br>deskripsi=%{customdata[0]}<extra></extra>",
         "legendgroup": "Alat Jahit",
         "marker": {
          "color": "#ab63fa",
          "symbol": "circle"
         },
         "mode": "markers",
         "name": "Alat Jahit",
         "orientation": "v",
         "showlegend": true,
         "type": "scatter",
         "x": [
          58.40083694458008,
          58.40083694458008
         ],
         "xaxis": "x",
         "y": [
          -52.2545166015625,
          -52.2545166015625
         ],
         "yaxis": "y"
        },
        {
         "customdata": [
          [
           "Distributor aksesoris dan perlengkapan konveksi"
          ],
          [
           "Distributor aksesori dan perlengkapan jahit"
          ],
          [
           "Distributor aksesori dan perlengkapan jahit"
          ],
          [
           "Distributor aksesori dan perlengkapan jahit"
          ],
          [
           "Distributor aksesoris dan perlengkapan konveksi"
          ],
          [
           "Distributor aksesoris dan perlengkapan konveksi"
          ],
          [
           "Distributor aksesori dan perlengkapan jahit"
          ],
          [
           "Distributor aksesori dan perlengkapan jahit"
          ]
         ],
         "hovertemplate": "bidang=Aksesoris<br>x=%{x}<br>y=%{y}<br>deskripsi=%{customdata[0]}<extra></extra>",
         "legendgroup": "Aksesoris",
         "marker": {
          "color": "#FFA15A",
          "symbol": "circle"
         },
         "mode": "markers",
         "name": "Aksesoris",
         "orientation": "v",
         "showlegend": true,
         "type": "scatter",
         "x": [
          -53.12525177001953,
          16.30592918395996,
          16.30592918395996,
          16.30592918395996,
          -56.300621032714844,
          -60.50505065917969,
          16.30592918395996,
          16.30592918395996
         ],
         "xaxis": "x",
         "y": [
          -18.863357543945312,
          -34.51969528198242,
          -34.51969528198242,
          -34.51969528198242,
          -12.074421882629395,
          -18.362003326416016,
          -34.51969528198242,
          -34.51969528198242
         ],
         "yaxis": "y"
        },
        {
         "customdata": [
          [
           "Produsen pewarna tekstil"
          ],
          [
           "Produsen pewarna tekstil"
          ],
          [
           "Produsen pewarna tekstil"
          ],
          [
           "Produsen pewarna tekstil"
          ],
          [
           "Produsen pewarna tekstil"
          ]
         ],
         "hovertemplate": "bidang=Pewarna Tekstil<br>x=%{x}<br>y=%{y}<br>deskripsi=%{customdata[0]}<extra></extra>",
         "legendgroup": "Pewarna Tekstil",
         "marker": {
          "color": "#19d3f3",
          "symbol": "circle"
         },
         "mode": "markers",
         "name": "Pewarna Tekstil",
         "orientation": "v",
         "showlegend": true,
         "type": "scatter",
         "x": [
          3.9735589027404785,
          3.9735589027404785,
          -0.9479593634605408,
          -0.9479593634605408,
          -5.610956192016602
         ],
         "xaxis": "x",
         "y": [
          -123.4588394165039,
          -123.4588394165039,
          -114.71066284179688,
          -114.71066284179688,
          -123.02494049072266
         ],
         "yaxis": "y"
        },
        {
         "customdata": [
          [
           "Menjual bahan-bahan konveksi"
          ],
          [
           "Pemasok bahan konveksi"
          ],
          [
           "Pemasok bahan konveksi"
          ],
          [
           "Menjual bahan-bahan konveksi"
          ],
          [
           "Pemasok bahan konveksi"
          ],
          [
           "Pemasok bahan konveksi"
          ]
         ],
         "hovertemplate": "bidang=Bahan Konveksi<br>x=%{x}<br>y=%{y}<br>deskripsi=%{customdata[0]}<extra></extra>",
         "legendgroup": "Bahan Konveksi",
         "marker": {
          "color": "#FF6692",
          "symbol": "circle"
         },
         "mode": "markers",
         "name": "Bahan Konveksi",
         "orientation": "v",
         "showlegend": true,
         "type": "scatter",
         "x": [
          41.054298400878906,
          -15.865748405456543,
          -10.972041130065918,
          41.054298400878906,
          -10.972041130065918,
          -10.972041130065918
         ],
         "xaxis": "x",
         "y": [
          -17.763267517089844,
          16.17028045654297,
          22.426937103271484,
          -17.763267517089844,
          22.426937103271484,
          22.426937103271484
         ],
         "yaxis": "y"
        },
        {
         "customdata": [
          [
           "Menjual berbagai jenis mesin jahit"
          ],
          [
           "Menjual berbagai jenis mesin jahit"
          ],
          [
           "Menjual berbagai jenis mesin jahit"
          ]
         ],
         "hovertemplate": "bidang=Mesin Jahit<br>x=%{x}<br>y=%{y}<br>deskripsi=%{customdata[0]}<extra></extra>",
         "legendgroup": "Mesin Jahit",
         "marker": {
          "color": "#B6E880",
          "symbol": "circle"
         },
         "mode": "markers",
         "name": "Mesin Jahit",
         "orientation": "v",
         "showlegend": true,
         "type": "scatter",
         "x": [
          39.509178161621094,
          39.752052307128906,
          39.752052307128906
         ],
         "xaxis": "x",
         "y": [
          -45.304386138916016,
          -52.525699615478516,
          -52.525699615478516
         ],
         "yaxis": "y"
        },
        {
         "customdata": [
          [
           "Menjual berbagai bahan jahit"
          ],
          [
           "Menjual bahan-bahan jahit"
          ],
          [
           "Menjual berbagai bahan jahit"
          ],
          [
           "Menyediakan berbagai bahan jahit"
          ],
          [
           "Menjual bahan-bahan jahit"
          ],
          [
           "Menjual berbagai bahan jahit"
          ],
          [
           "Menjual bahan-bahan jahit"
          ],
          [
           "Menjual berbagai bahan jahit"
          ]
         ],
         "hovertemplate": "bidang=Bahan Jahit<br>x=%{x}<br>y=%{y}<br>deskripsi=%{customdata[0]}<extra></extra>",
         "legendgroup": "Bahan Jahit",
         "marker": {
          "color": "#FF97FF",
          "symbol": "circle"
         },
         "mode": "markers",
         "name": "Bahan Jahit",
         "orientation": "v",
         "showlegend": true,
         "type": "scatter",
         "x": [
          58.94962692260742,
          61.48944091796875,
          53.68466567993164,
          -1.6627259254455566,
          54.87777328491211,
          62.2723274230957,
          51.63861083984375,
          66.8519058227539
         ],
         "xaxis": "x",
         "y": [
          -34.24028396606445,
          -25.14263916015625,
          -39.71038055419922,
          11.758859634399414,
          -21.270151138305664,
          -41.4775390625,
          -28.42930030822754,
          -34.877811431884766
         ],
         "yaxis": "y"
        },
        {
         "customdata": [
          [
           "Menyediakan perlengkapan jahit"
          ],
          [
           "Menyediakan perlengkapan jahit"
          ]
         ],
         "hovertemplate": "bidang=Perlengkapan Jahit<br>x=%{x}<br>y=%{y}<br>deskripsi=%{customdata[0]}<extra></extra>",
         "legendgroup": "Perlengkapan Jahit",
         "marker": {
          "color": "#FECB52",
          "symbol": "circle"
         },
         "mode": "markers",
         "name": "Perlengkapan Jahit",
         "orientation": "v",
         "showlegend": true,
         "type": "scatter",
         "x": [
          0.2686934769153595,
          3.9775376319885254
         ],
         "xaxis": "x",
         "y": [
          -18.48490333557129,
          -14.24960708618164
         ],
         "yaxis": "y"
        },
        {
         "customdata": [
          [
           "Supplier ekstrak alami untuk skincare"
          ],
          [
           "Menyediakan bahan mentah organik"
          ],
          [
           "Supplier bahan herbal untuk kosmetik"
          ],
          [
           "Menyediakan minyak esensial untuk skincare"
          ],
          [
           "Supplier minyak alami"
          ],
          [
           "Menyediakan ekstrak herbal"
          ],
          [
           "Supplier ekstrak tanaman"
          ],
          [
           "Menyediakan bahan organik"
          ],
          [
           "Supplier bahan mentah kosmetik"
          ],
          [
           "Menyediakan solusi bahan alami"
          ],
          [
           "Supplier bahan kecantikan"
          ],
          [
           "Menyediakan bahan dasar skincare"
          ],
          [
           "Supplier bahan organik untuk skincare"
          ],
          [
           "Menyediakan bahan botani murni"
          ],
          [
           "Supplier bahan untuk produk skincare"
          ],
          [
           "Menyediakan bahan herbal alami"
          ],
          [
           "Supplier ekstrak botani"
          ],
          [
           "Menyediakan bahan mentah organik"
          ],
          [
           "Supplier bahan aktif untuk skincare"
          ],
          [
           "Menyediakan ekstrak esensial"
          ],
          [
           "Supplier bahan premium untuk kosmetik"
          ],
          [
           "Menyediakan solusi bahan botani"
          ],
          [
           "Supplier ekstrak organik"
          ],
          [
           "Menyediakan bahan mentah murni"
          ],
          [
           "Supplier bahan botani alami"
          ],
          [
           "Menyediakan bahan herbal untuk skincare"
          ],
          [
           "Supplier minyak esensial murni"
          ],
          [
           "Menyediakan bahan alami untuk skincare"
          ],
          [
           "Supplier bahan mentah kecantikan"
          ],
          [
           "Menyediakan bahan botani organik"
          ],
          [
           "Supplier solusi bahan herbal"
          ]
         ],
         "hovertemplate": "bidang=Skincare<br>x=%{x}<br>y=%{y}<br>deskripsi=%{customdata[0]}<extra></extra>",
         "legendgroup": "Skincare",
         "marker": {
          "color": "#636efa",
          "symbol": "circle"
         },
         "mode": "markers",
         "name": "Skincare",
         "orientation": "v",
         "showlegend": true,
         "type": "scatter",
         "x": [
          101.60706329345703,
          -23.882564544677734,
          66.9799575805664,
          106.5600357055664,
          -85.55776977539062,
          26.784086227416992,
          -30.71112060546875,
          -21.114770889282227,
          70.37289428710938,
          -19.99964141845703,
          62.17143249511719,
          98.1099853515625,
          84.61920166015625,
          -7.989805698394775,
          92.84774017333984,
          11.37401294708252,
          -23.85370445251465,
          -16.505008697509766,
          99.80699920654297,
          -7.995144844055176,
          77.8107681274414,
          -1.4237881898880005,
          -37.212127685546875,
          -9.23144817352295,
          -15.142773628234863,
          90.85403442382812,
          -81.05122375488281,
          92.0575942993164,
          59.51518630981445,
          -9.580138206481934,
          17.434667587280273
         ],
         "xaxis": "x",
         "y": [
          41.44144058227539,
          98.8956069946289,
          39.455902099609375,
          55.64130783081055,
          46.53042984008789,
          118.64697265625,
          138.1845703125,
          105.88349914550781,
          11.952725410461426,
          89.060302734375,
          0.5092172622680664,
          57.18521499633789,
          49.79523468017578,
          130.6134796142578,
          44.27659606933594,
          120.6314697265625,
          138.5813446044922,
          100.06051635742188,
          49.20670700073242,
          44.393653869628906,
          10.242721557617188,
          130.9175567626953,
          112.03365325927734,
          9.657032012939453,
          135.98883056640625,
          61.77362823486328,
          42.97427749633789,
          52.78153610229492,
          5.3526506423950195,
          121.60922241210938,
          129.09429931640625
         ],
         "yaxis": "y"
        },
        {
         "customdata": [
          [
           "Menyediakan bahan tekstil untuk busana"
          ],
          [
           "Menyediakan bahan kain"
          ],
          [
           "Menyediakan kain untuk busana"
          ],
          [
           "Menyediakan berbagai jenis kain"
          ],
          [
           "Menyediakan bahan tekstil"
          ],
          [
           "Menyediakan bahan kain untuk busana"
          ],
          [
           "Menyediakan bahan kain"
          ],
          [
           "Menyediakan berbagai jenis kain"
          ],
          [
           "Menyediakan bahan tekstil untuk busana"
          ],
          [
           "Menyediakan bahan kain"
          ],
          [
           "Menyediakan bahan tekstil"
          ],
          [
           "Menyediakan bahan kain untuk busana"
          ],
          [
           "Menyediakan berbagai jenis kain"
          ],
          [
           "Menyediakan bahan kain"
          ],
          [
           "Menyediakan bahan tekstil untuk busana"
          ],
          [
           "Menyediakan berbagai jenis kain"
          ],
          [
           "Menyediakan bahan kain untuk busana"
          ],
          [
           "Menyediakan bahan tekstil"
          ],
          [
           "Menyediakan berbagai jenis kain"
          ],
          [
           "Menyediakan bahan tekstil"
          ],
          [
           "Menyediakan bahan kain untuk busana"
          ],
          [
           "Menyediakan bahan tekstil"
          ],
          [
           "Menyediakan berbagai jenis kain"
          ]
         ],
         "hovertemplate": "bidang=Busana<br>x=%{x}<br>y=%{y}<br>deskripsi=%{customdata[0]}<extra></extra>",
         "legendgroup": "Busana",
         "marker": {
          "color": "#EF553B",
          "symbol": "circle"
         },
         "mode": "markers",
         "name": "Busana",
         "orientation": "v",
         "showlegend": true,
         "type": "scatter",
         "x": [
          54.936622619628906,
          25.338247299194336,
          65.43730926513672,
          47.091835021972656,
          13.688924789428711,
          65.81155395507812,
          29.047622680664062,
          28.743053436279297,
          54.936622619628906,
          29.047622680664062,
          6.4607768058776855,
          65.81155395507812,
          26.238122940063477,
          29.047622680664062,
          54.936622619628906,
          52.666194915771484,
          57.21766662597656,
          13.688924789428711,
          38.56186294555664,
          13.688924789428711,
          57.21766662597656,
          15.090428352355957,
          42.66646194458008
         ],
         "xaxis": "x",
         "y": [
          -93.45059204101562,
          -102.48655700683594,
          -111.42931365966797,
          -112.82041931152344,
          -95.92385864257812,
          -100.5194091796875,
          -93.71788787841797,
          -114.13958740234375,
          -93.45059204101562,
          -93.71788787841797,
          -102.21393585205078,
          -100.5194091796875,
          -123.85477447509766,
          -93.71788787841797,
          -93.45059204101562,
          -120.60348510742188,
          -105.43473052978516,
          -95.92385864257812,
          -113.56283569335938,
          -95.92385864257812,
          -105.43473052978516,
          -105.28777313232422,
          -104.8781967163086
         ],
         "yaxis": "y"
        },
        {
         "customdata": [
          [
           "Menyediakan bahan baku minuman"
          ],
          [
           "Menyediakan bahan untuk minuman"
          ],
          [
           "Menyediakan bahan baku jus"
          ],
          [
           "Menyediakan bahan untuk minuman fermentasi"
          ],
          [
           "Menyediakan bahan baku susu"
          ],
          [
           "Menyediakan bahan baku air minum"
          ],
          [
           "Menyediakan bahan baku minuman ringan"
          ],
          [
           "Menyediakan bahan untuk minuman herbal"
          ],
          [
           "Menyediakan bahan baku minuman organik"
          ],
          [
           "Menyediakan biji kopi"
          ],
          [
           "Menyediakan bahan baku untuk air kemasan"
          ],
          [
           "Menyediakan bahan campuran minuman"
          ],
          [
           "Menyediakan berbagai jenis teh"
          ],
          [
           "Menyediakan bahan untuk soda"
          ],
          [
           "Menyediakan bahan dasar minuman"
          ],
          [
           "Menyediakan bahan baku minuman"
          ],
          [
           "Menyediakan bahan baku produk susu"
          ],
          [
           "Menyediakan bahan baku minuman herbal"
          ],
          [
           "Menyediakan bahan baku minuman"
          ],
          [
           "Menyediakan bahan baku untuk jus"
          ],
          [
           "Menyediakan bahan baku minuman ringan"
          ],
          [
           "Menyediakan bahan baku minuman organik"
          ],
          [
           "Menyediakan bahan baku jus"
          ],
          [
           "Menyediakan bahan esens untuk minuman"
          ]
         ],
         "hovertemplate": "bidang=Minuman<br>x=%{x}<br>y=%{y}<br>deskripsi=%{customdata[0]}<extra></extra>",
         "legendgroup": "Minuman",
         "marker": {
          "color": "#00cc96",
          "symbol": "circle"
         },
         "mode": "markers",
         "name": "Minuman",
         "orientation": "v",
         "showlegend": true,
         "type": "scatter",
         "x": [
          10.43301773071289,
          20.388090133666992,
          24.33483123779297,
          24.029306411743164,
          42.595401763916016,
          -2.464487314224243,
          11.527652740478516,
          17.704349517822266,
          -3.5655603408813477,
          33.260494232177734,
          -9.419028282165527,
          19.138229370117188,
          49.539676666259766,
          9.500694274902344,
          14.11700439453125,
          1.8754197359085083,
          42.11866760253906,
          19.19418716430664,
          10.43301773071289,
          20.46167755126953,
          3.9690489768981934,
          -7.210495471954346,
          24.33483123779297,
          6.247069358825684
         ],
         "xaxis": "x",
         "y": [
          66.09760284423828,
          70.24693298339844,
          83.43173217773438,
          53.704261779785156,
          92.13436889648438,
          76.72357177734375,
          56.322509765625,
          114.2462387084961,
          99.13987731933594,
          68.6724853515625,
          72.92552947998047,
          62.1589469909668,
          73.75707244873047,
          84.66732788085938,
          74.81277465820312,
          66.44713592529297,
          98.62583923339844,
          120.83625030517578,
          66.09760284423828,
          90.39907836914062,
          58.044803619384766,
          93.6490707397461,
          83.43173217773438,
          74.38037109375
         ],
         "yaxis": "y"
        },
        {
         "customdata": [
          [
           "Menyediakan berbagai macam alat tulis"
          ]
         ],
         "hovertemplate": "bidang=Alat Tulis<br>x=%{x}<br>y=%{y}<br>deskripsi=%{customdata[0]}<extra></extra>",
         "legendgroup": "Alat Tulis",
         "marker": {
          "color": "#ab63fa",
          "symbol": "circle"
         },
         "mode": "markers",
         "name": "Alat Tulis",
         "orientation": "v",
         "showlegend": true,
         "type": "scatter",
         "x": [
          10.356354713439941
         ],
         "xaxis": "x",
         "y": [
          7.4229960441589355
         ],
         "yaxis": "y"
        }
       ],
       "layout": {
        "legend": {
         "title": {
          "text": "bidang"
         },
         "tracegroupgap": 0
        },
        "margin": {
         "t": 60
        },
        "template": {
         "data": {
          "bar": [
           {
            "error_x": {
             "color": "#2a3f5f"
            },
            "error_y": {
             "color": "#2a3f5f"
            },
            "marker": {
             "line": {
              "color": "#E5ECF6",
              "width": 0.5
             },
             "pattern": {
              "fillmode": "overlay",
              "size": 10,
              "solidity": 0.2
             }
            },
            "type": "bar"
           }
          ],
          "barpolar": [
           {
            "marker": {
             "line": {
              "color": "#E5ECF6",
              "width": 0.5
             },
             "pattern": {
              "fillmode": "overlay",
              "size": 10,
              "solidity": 0.2
             }
            },
            "type": "barpolar"
           }
          ],
          "carpet": [
           {
            "aaxis": {
             "endlinecolor": "#2a3f5f",
             "gridcolor": "white",
             "linecolor": "white",
             "minorgridcolor": "white",
             "startlinecolor": "#2a3f5f"
            },
            "baxis": {
             "endlinecolor": "#2a3f5f",
             "gridcolor": "white",
             "linecolor": "white",
             "minorgridcolor": "white",
             "startlinecolor": "#2a3f5f"
            },
            "type": "carpet"
           }
          ],
          "choropleth": [
           {
            "colorbar": {
             "outlinewidth": 0,
             "ticks": ""
            },
            "type": "choropleth"
           }
          ],
          "contour": [
           {
            "colorbar": {
             "outlinewidth": 0,
             "ticks": ""
            },
            "colorscale": [
             [
              0,
              "#0d0887"
             ],
             [
              0.1111111111111111,
              "#46039f"
             ],
             [
              0.2222222222222222,
              "#7201a8"
             ],
             [
              0.3333333333333333,
              "#9c179e"
             ],
             [
              0.4444444444444444,
              "#bd3786"
             ],
             [
              0.5555555555555556,
              "#d8576b"
             ],
             [
              0.6666666666666666,
              "#ed7953"
             ],
             [
              0.7777777777777778,
              "#fb9f3a"
             ],
             [
              0.8888888888888888,
              "#fdca26"
             ],
             [
              1,
              "#f0f921"
             ]
            ],
            "type": "contour"
           }
          ],
          "contourcarpet": [
           {
            "colorbar": {
             "outlinewidth": 0,
             "ticks": ""
            },
            "type": "contourcarpet"
           }
          ],
          "heatmap": [
           {
            "colorbar": {
             "outlinewidth": 0,
             "ticks": ""
            },
            "colorscale": [
             [
              0,
              "#0d0887"
             ],
             [
              0.1111111111111111,
              "#46039f"
             ],
             [
              0.2222222222222222,
              "#7201a8"
             ],
             [
              0.3333333333333333,
              "#9c179e"
             ],
             [
              0.4444444444444444,
              "#bd3786"
             ],
             [
              0.5555555555555556,
              "#d8576b"
             ],
             [
              0.6666666666666666,
              "#ed7953"
             ],
             [
              0.7777777777777778,
              "#fb9f3a"
             ],
             [
              0.8888888888888888,
              "#fdca26"
             ],
             [
              1,
              "#f0f921"
             ]
            ],
            "type": "heatmap"
           }
          ],
          "heatmapgl": [
           {
            "colorbar": {
             "outlinewidth": 0,
             "ticks": ""
            },
            "colorscale": [
             [
              0,
              "#0d0887"
             ],
             [
              0.1111111111111111,
              "#46039f"
             ],
             [
              0.2222222222222222,
              "#7201a8"
             ],
             [
              0.3333333333333333,
              "#9c179e"
             ],
             [
              0.4444444444444444,
              "#bd3786"
             ],
             [
              0.5555555555555556,
              "#d8576b"
             ],
             [
              0.6666666666666666,
              "#ed7953"
             ],
             [
              0.7777777777777778,
              "#fb9f3a"
             ],
             [
              0.8888888888888888,
              "#fdca26"
             ],
             [
              1,
              "#f0f921"
             ]
            ],
            "type": "heatmapgl"
           }
          ],
          "histogram": [
           {
            "marker": {
             "pattern": {
              "fillmode": "overlay",
              "size": 10,
              "solidity": 0.2
             }
            },
            "type": "histogram"
           }
          ],
          "histogram2d": [
           {
            "colorbar": {
             "outlinewidth": 0,
             "ticks": ""
            },
            "colorscale": [
             [
              0,
              "#0d0887"
             ],
             [
              0.1111111111111111,
              "#46039f"
             ],
             [
              0.2222222222222222,
              "#7201a8"
             ],
             [
              0.3333333333333333,
              "#9c179e"
             ],
             [
              0.4444444444444444,
              "#bd3786"
             ],
             [
              0.5555555555555556,
              "#d8576b"
             ],
             [
              0.6666666666666666,
              "#ed7953"
             ],
             [
              0.7777777777777778,
              "#fb9f3a"
             ],
             [
              0.8888888888888888,
              "#fdca26"
             ],
             [
              1,
              "#f0f921"
             ]
            ],
            "type": "histogram2d"
           }
          ],
          "histogram2dcontour": [
           {
            "colorbar": {
             "outlinewidth": 0,
             "ticks": ""
            },
            "colorscale": [
             [
              0,
              "#0d0887"
             ],
             [
              0.1111111111111111,
              "#46039f"
             ],
             [
              0.2222222222222222,
              "#7201a8"
             ],
             [
              0.3333333333333333,
              "#9c179e"
             ],
             [
              0.4444444444444444,
              "#bd3786"
             ],
             [
              0.5555555555555556,
              "#d8576b"
             ],
             [
              0.6666666666666666,
              "#ed7953"
             ],
             [
              0.7777777777777778,
              "#fb9f3a"
             ],
             [
              0.8888888888888888,
              "#fdca26"
             ],
             [
              1,
              "#f0f921"
             ]
            ],
            "type": "histogram2dcontour"
           }
          ],
          "mesh3d": [
           {
            "colorbar": {
             "outlinewidth": 0,
             "ticks": ""
            },
            "type": "mesh3d"
           }
          ],
          "parcoords": [
           {
            "line": {
             "colorbar": {
              "outlinewidth": 0,
              "ticks": ""
             }
            },
            "type": "parcoords"
           }
          ],
          "pie": [
           {
            "automargin": true,
            "type": "pie"
           }
          ],
          "scatter": [
           {
            "fillpattern": {
             "fillmode": "overlay",
             "size": 10,
             "solidity": 0.2
            },
            "type": "scatter"
           }
          ],
          "scatter3d": [
           {
            "line": {
             "colorbar": {
              "outlinewidth": 0,
              "ticks": ""
             }
            },
            "marker": {
             "colorbar": {
              "outlinewidth": 0,
              "ticks": ""
             }
            },
            "type": "scatter3d"
           }
          ],
          "scattercarpet": [
           {
            "marker": {
             "colorbar": {
              "outlinewidth": 0,
              "ticks": ""
             }
            },
            "type": "scattercarpet"
           }
          ],
          "scattergeo": [
           {
            "marker": {
             "colorbar": {
              "outlinewidth": 0,
              "ticks": ""
             }
            },
            "type": "scattergeo"
           }
          ],
          "scattergl": [
           {
            "marker": {
             "colorbar": {
              "outlinewidth": 0,
              "ticks": ""
             }
            },
            "type": "scattergl"
           }
          ],
          "scattermapbox": [
           {
            "marker": {
             "colorbar": {
              "outlinewidth": 0,
              "ticks": ""
             }
            },
            "type": "scattermapbox"
           }
          ],
          "scatterpolar": [
           {
            "marker": {
             "colorbar": {
              "outlinewidth": 0,
              "ticks": ""
             }
            },
            "type": "scatterpolar"
           }
          ],
          "scatterpolargl": [
           {
            "marker": {
             "colorbar": {
              "outlinewidth": 0,
              "ticks": ""
             }
            },
            "type": "scatterpolargl"
           }
          ],
          "scatterternary": [
           {
            "marker": {
             "colorbar": {
              "outlinewidth": 0,
              "ticks": ""
             }
            },
            "type": "scatterternary"
           }
          ],
          "surface": [
           {
            "colorbar": {
             "outlinewidth": 0,
             "ticks": ""
            },
            "colorscale": [
             [
              0,
              "#0d0887"
             ],
             [
              0.1111111111111111,
              "#46039f"
             ],
             [
              0.2222222222222222,
              "#7201a8"
             ],
             [
              0.3333333333333333,
              "#9c179e"
             ],
             [
              0.4444444444444444,
              "#bd3786"
             ],
             [
              0.5555555555555556,
              "#d8576b"
             ],
             [
              0.6666666666666666,
              "#ed7953"
             ],
             [
              0.7777777777777778,
              "#fb9f3a"
             ],
             [
              0.8888888888888888,
              "#fdca26"
             ],
             [
              1,
              "#f0f921"
             ]
            ],
            "type": "surface"
           }
          ],
          "table": [
           {
            "cells": {
             "fill": {
              "color": "#EBF0F8"
             },
             "line": {
              "color": "white"
             }
            },
            "header": {
             "fill": {
              "color": "#C8D4E3"
             },
             "line": {
              "color": "white"
             }
            },
            "type": "table"
           }
          ]
         },
         "layout": {
          "annotationdefaults": {
           "arrowcolor": "#2a3f5f",
           "arrowhead": 0,
           "arrowwidth": 1
          },
          "autotypenumbers": "strict",
          "coloraxis": {
           "colorbar": {
            "outlinewidth": 0,
            "ticks": ""
           }
          },
          "colorscale": {
           "diverging": [
            [
             0,
             "#8e0152"
            ],
            [
             0.1,
             "#c51b7d"
            ],
            [
             0.2,
             "#de77ae"
            ],
            [
             0.3,
             "#f1b6da"
            ],
            [
             0.4,
             "#fde0ef"
            ],
            [
             0.5,
             "#f7f7f7"
            ],
            [
             0.6,
             "#e6f5d0"
            ],
            [
             0.7,
             "#b8e186"
            ],
            [
             0.8,
             "#7fbc41"
            ],
            [
             0.9,
             "#4d9221"
            ],
            [
             1,
             "#276419"
            ]
           ],
           "sequential": [
            [
             0,
             "#0d0887"
            ],
            [
             0.1111111111111111,
             "#46039f"
            ],
            [
             0.2222222222222222,
             "#7201a8"
            ],
            [
             0.3333333333333333,
             "#9c179e"
            ],
            [
             0.4444444444444444,
             "#bd3786"
            ],
            [
             0.5555555555555556,
             "#d8576b"
            ],
            [
             0.6666666666666666,
             "#ed7953"
            ],
            [
             0.7777777777777778,
             "#fb9f3a"
            ],
            [
             0.8888888888888888,
             "#fdca26"
            ],
            [
             1,
             "#f0f921"
            ]
           ],
           "sequentialminus": [
            [
             0,
             "#0d0887"
            ],
            [
             0.1111111111111111,
             "#46039f"
            ],
            [
             0.2222222222222222,
             "#7201a8"
            ],
            [
             0.3333333333333333,
             "#9c179e"
            ],
            [
             0.4444444444444444,
             "#bd3786"
            ],
            [
             0.5555555555555556,
             "#d8576b"
            ],
            [
             0.6666666666666666,
             "#ed7953"
            ],
            [
             0.7777777777777778,
             "#fb9f3a"
            ],
            [
             0.8888888888888888,
             "#fdca26"
            ],
            [
             1,
             "#f0f921"
            ]
           ]
          },
          "colorway": [
           "#636efa",
           "#EF553B",
           "#00cc96",
           "#ab63fa",
           "#FFA15A",
           "#19d3f3",
           "#FF6692",
           "#B6E880",
           "#FF97FF",
           "#FECB52"
          ],
          "font": {
           "color": "#2a3f5f"
          },
          "geo": {
           "bgcolor": "white",
           "lakecolor": "white",
           "landcolor": "#E5ECF6",
           "showlakes": true,
           "showland": true,
           "subunitcolor": "white"
          },
          "hoverlabel": {
           "align": "left"
          },
          "hovermode": "closest",
          "mapbox": {
           "style": "light"
          },
          "paper_bgcolor": "white",
          "plot_bgcolor": "#E5ECF6",
          "polar": {
           "angularaxis": {
            "gridcolor": "white",
            "linecolor": "white",
            "ticks": ""
           },
           "bgcolor": "#E5ECF6",
           "radialaxis": {
            "gridcolor": "white",
            "linecolor": "white",
            "ticks": ""
           }
          },
          "scene": {
           "xaxis": {
            "backgroundcolor": "#E5ECF6",
            "gridcolor": "white",
            "gridwidth": 2,
            "linecolor": "white",
            "showbackground": true,
            "ticks": "",
            "zerolinecolor": "white"
           },
           "yaxis": {
            "backgroundcolor": "#E5ECF6",
            "gridcolor": "white",
            "gridwidth": 2,
            "linecolor": "white",
            "showbackground": true,
            "ticks": "",
            "zerolinecolor": "white"
           },
           "zaxis": {
            "backgroundcolor": "#E5ECF6",
            "gridcolor": "white",
            "gridwidth": 2,
            "linecolor": "white",
            "showbackground": true,
            "ticks": "",
            "zerolinecolor": "white"
           }
          },
          "shapedefaults": {
           "line": {
            "color": "#2a3f5f"
           }
          },
          "ternary": {
           "aaxis": {
            "gridcolor": "white",
            "linecolor": "white",
            "ticks": ""
           },
           "baxis": {
            "gridcolor": "white",
            "linecolor": "white",
            "ticks": ""
           },
           "bgcolor": "#E5ECF6",
           "caxis": {
            "gridcolor": "white",
            "linecolor": "white",
            "ticks": ""
           }
          },
          "title": {
           "x": 0.05
          },
          "xaxis": {
           "automargin": true,
           "gridcolor": "white",
           "linecolor": "white",
           "ticks": "",
           "title": {
            "standoff": 15
           },
           "zerolinecolor": "white",
           "zerolinewidth": 2
          },
          "yaxis": {
           "automargin": true,
           "gridcolor": "white",
           "linecolor": "white",
           "ticks": "",
           "title": {
            "standoff": 15
           },
           "zerolinecolor": "white",
           "zerolinewidth": 2
          }
         }
        },
        "xaxis": {
         "anchor": "y",
         "domain": [
          0,
          1
         ],
         "title": {
          "text": "x"
         }
        },
        "yaxis": {
         "anchor": "x",
         "domain": [
          0,
          1
         ],
         "title": {
          "text": "y"
         }
        }
       }
      }
     },
     "metadata": {},
     "output_type": "display_data"
    }
   ],
   "source": [
    "fig = px.scatter(df_vis, x=\"x\", y=\"y\", hover_data=['deskripsi'], color='bidang')\n",
    "fig.show()"
   ]
  },
  {
   "cell_type": "code",
   "execution_count": null,
   "metadata": {},
   "outputs": [],
   "source": []
  },
  {
   "cell_type": "code",
   "execution_count": 63,
   "metadata": {},
   "outputs": [
    {
     "data": {
      "text/html": [
       "<style>#sk-container-id-10 {\n",
       "  /* Definition of color scheme common for light and dark mode */\n",
       "  --sklearn-color-text: black;\n",
       "  --sklearn-color-line: gray;\n",
       "  /* Definition of color scheme for unfitted estimators */\n",
       "  --sklearn-color-unfitted-level-0: #fff5e6;\n",
       "  --sklearn-color-unfitted-level-1: #f6e4d2;\n",
       "  --sklearn-color-unfitted-level-2: #ffe0b3;\n",
       "  --sklearn-color-unfitted-level-3: chocolate;\n",
       "  /* Definition of color scheme for fitted estimators */\n",
       "  --sklearn-color-fitted-level-0: #f0f8ff;\n",
       "  --sklearn-color-fitted-level-1: #d4ebff;\n",
       "  --sklearn-color-fitted-level-2: #b3dbfd;\n",
       "  --sklearn-color-fitted-level-3: cornflowerblue;\n",
       "\n",
       "  /* Specific color for light theme */\n",
       "  --sklearn-color-text-on-default-background: var(--sg-text-color, var(--theme-code-foreground, var(--jp-content-font-color1, black)));\n",
       "  --sklearn-color-background: var(--sg-background-color, var(--theme-background, var(--jp-layout-color0, white)));\n",
       "  --sklearn-color-border-box: var(--sg-text-color, var(--theme-code-foreground, var(--jp-content-font-color1, black)));\n",
       "  --sklearn-color-icon: #696969;\n",
       "\n",
       "  @media (prefers-color-scheme: dark) {\n",
       "    /* Redefinition of color scheme for dark theme */\n",
       "    --sklearn-color-text-on-default-background: var(--sg-text-color, var(--theme-code-foreground, var(--jp-content-font-color1, white)));\n",
       "    --sklearn-color-background: var(--sg-background-color, var(--theme-background, var(--jp-layout-color0, #111)));\n",
       "    --sklearn-color-border-box: var(--sg-text-color, var(--theme-code-foreground, var(--jp-content-font-color1, white)));\n",
       "    --sklearn-color-icon: #878787;\n",
       "  }\n",
       "}\n",
       "\n",
       "#sk-container-id-10 {\n",
       "  color: var(--sklearn-color-text);\n",
       "}\n",
       "\n",
       "#sk-container-id-10 pre {\n",
       "  padding: 0;\n",
       "}\n",
       "\n",
       "#sk-container-id-10 input.sk-hidden--visually {\n",
       "  border: 0;\n",
       "  clip: rect(1px 1px 1px 1px);\n",
       "  clip: rect(1px, 1px, 1px, 1px);\n",
       "  height: 1px;\n",
       "  margin: -1px;\n",
       "  overflow: hidden;\n",
       "  padding: 0;\n",
       "  position: absolute;\n",
       "  width: 1px;\n",
       "}\n",
       "\n",
       "#sk-container-id-10 div.sk-dashed-wrapped {\n",
       "  border: 1px dashed var(--sklearn-color-line);\n",
       "  margin: 0 0.4em 0.5em 0.4em;\n",
       "  box-sizing: border-box;\n",
       "  padding-bottom: 0.4em;\n",
       "  background-color: var(--sklearn-color-background);\n",
       "}\n",
       "\n",
       "#sk-container-id-10 div.sk-container {\n",
       "  /* jupyter's `normalize.less` sets `[hidden] { display: none; }`\n",
       "     but bootstrap.min.css set `[hidden] { display: none !important; }`\n",
       "     so we also need the `!important` here to be able to override the\n",
       "     default hidden behavior on the sphinx rendered scikit-learn.org.\n",
       "     See: https://github.com/scikit-learn/scikit-learn/issues/21755 */\n",
       "  display: inline-block !important;\n",
       "  position: relative;\n",
       "}\n",
       "\n",
       "#sk-container-id-10 div.sk-text-repr-fallback {\n",
       "  display: none;\n",
       "}\n",
       "\n",
       "div.sk-parallel-item,\n",
       "div.sk-serial,\n",
       "div.sk-item {\n",
       "  /* draw centered vertical line to link estimators */\n",
       "  background-image: linear-gradient(var(--sklearn-color-text-on-default-background), var(--sklearn-color-text-on-default-background));\n",
       "  background-size: 2px 100%;\n",
       "  background-repeat: no-repeat;\n",
       "  background-position: center center;\n",
       "}\n",
       "\n",
       "/* Parallel-specific style estimator block */\n",
       "\n",
       "#sk-container-id-10 div.sk-parallel-item::after {\n",
       "  content: \"\";\n",
       "  width: 100%;\n",
       "  border-bottom: 2px solid var(--sklearn-color-text-on-default-background);\n",
       "  flex-grow: 1;\n",
       "}\n",
       "\n",
       "#sk-container-id-10 div.sk-parallel {\n",
       "  display: flex;\n",
       "  align-items: stretch;\n",
       "  justify-content: center;\n",
       "  background-color: var(--sklearn-color-background);\n",
       "  position: relative;\n",
       "}\n",
       "\n",
       "#sk-container-id-10 div.sk-parallel-item {\n",
       "  display: flex;\n",
       "  flex-direction: column;\n",
       "}\n",
       "\n",
       "#sk-container-id-10 div.sk-parallel-item:first-child::after {\n",
       "  align-self: flex-end;\n",
       "  width: 50%;\n",
       "}\n",
       "\n",
       "#sk-container-id-10 div.sk-parallel-item:last-child::after {\n",
       "  align-self: flex-start;\n",
       "  width: 50%;\n",
       "}\n",
       "\n",
       "#sk-container-id-10 div.sk-parallel-item:only-child::after {\n",
       "  width: 0;\n",
       "}\n",
       "\n",
       "/* Serial-specific style estimator block */\n",
       "\n",
       "#sk-container-id-10 div.sk-serial {\n",
       "  display: flex;\n",
       "  flex-direction: column;\n",
       "  align-items: center;\n",
       "  background-color: var(--sklearn-color-background);\n",
       "  padding-right: 1em;\n",
       "  padding-left: 1em;\n",
       "}\n",
       "\n",
       "\n",
       "/* Toggleable style: style used for estimator/Pipeline/ColumnTransformer box that is\n",
       "clickable and can be expanded/collapsed.\n",
       "- Pipeline and ColumnTransformer use this feature and define the default style\n",
       "- Estimators will overwrite some part of the style using the `sk-estimator` class\n",
       "*/\n",
       "\n",
       "/* Pipeline and ColumnTransformer style (default) */\n",
       "\n",
       "#sk-container-id-10 div.sk-toggleable {\n",
       "  /* Default theme specific background. It is overwritten whether we have a\n",
       "  specific estimator or a Pipeline/ColumnTransformer */\n",
       "  background-color: var(--sklearn-color-background);\n",
       "}\n",
       "\n",
       "/* Toggleable label */\n",
       "#sk-container-id-10 label.sk-toggleable__label {\n",
       "  cursor: pointer;\n",
       "  display: block;\n",
       "  width: 100%;\n",
       "  margin-bottom: 0;\n",
       "  padding: 0.5em;\n",
       "  box-sizing: border-box;\n",
       "  text-align: center;\n",
       "}\n",
       "\n",
       "#sk-container-id-10 label.sk-toggleable__label-arrow:before {\n",
       "  /* Arrow on the left of the label */\n",
       "  content: \"▸\";\n",
       "  float: left;\n",
       "  margin-right: 0.25em;\n",
       "  color: var(--sklearn-color-icon);\n",
       "}\n",
       "\n",
       "#sk-container-id-10 label.sk-toggleable__label-arrow:hover:before {\n",
       "  color: var(--sklearn-color-text);\n",
       "}\n",
       "\n",
       "/* Toggleable content - dropdown */\n",
       "\n",
       "#sk-container-id-10 div.sk-toggleable__content {\n",
       "  max-height: 0;\n",
       "  max-width: 0;\n",
       "  overflow: hidden;\n",
       "  text-align: left;\n",
       "  /* unfitted */\n",
       "  background-color: var(--sklearn-color-unfitted-level-0);\n",
       "}\n",
       "\n",
       "#sk-container-id-10 div.sk-toggleable__content.fitted {\n",
       "  /* fitted */\n",
       "  background-color: var(--sklearn-color-fitted-level-0);\n",
       "}\n",
       "\n",
       "#sk-container-id-10 div.sk-toggleable__content pre {\n",
       "  margin: 0.2em;\n",
       "  border-radius: 0.25em;\n",
       "  color: var(--sklearn-color-text);\n",
       "  /* unfitted */\n",
       "  background-color: var(--sklearn-color-unfitted-level-0);\n",
       "}\n",
       "\n",
       "#sk-container-id-10 div.sk-toggleable__content.fitted pre {\n",
       "  /* unfitted */\n",
       "  background-color: var(--sklearn-color-fitted-level-0);\n",
       "}\n",
       "\n",
       "#sk-container-id-10 input.sk-toggleable__control:checked~div.sk-toggleable__content {\n",
       "  /* Expand drop-down */\n",
       "  max-height: 200px;\n",
       "  max-width: 100%;\n",
       "  overflow: auto;\n",
       "}\n",
       "\n",
       "#sk-container-id-10 input.sk-toggleable__control:checked~label.sk-toggleable__label-arrow:before {\n",
       "  content: \"▾\";\n",
       "}\n",
       "\n",
       "/* Pipeline/ColumnTransformer-specific style */\n",
       "\n",
       "#sk-container-id-10 div.sk-label input.sk-toggleable__control:checked~label.sk-toggleable__label {\n",
       "  color: var(--sklearn-color-text);\n",
       "  background-color: var(--sklearn-color-unfitted-level-2);\n",
       "}\n",
       "\n",
       "#sk-container-id-10 div.sk-label.fitted input.sk-toggleable__control:checked~label.sk-toggleable__label {\n",
       "  background-color: var(--sklearn-color-fitted-level-2);\n",
       "}\n",
       "\n",
       "/* Estimator-specific style */\n",
       "\n",
       "/* Colorize estimator box */\n",
       "#sk-container-id-10 div.sk-estimator input.sk-toggleable__control:checked~label.sk-toggleable__label {\n",
       "  /* unfitted */\n",
       "  background-color: var(--sklearn-color-unfitted-level-2);\n",
       "}\n",
       "\n",
       "#sk-container-id-10 div.sk-estimator.fitted input.sk-toggleable__control:checked~label.sk-toggleable__label {\n",
       "  /* fitted */\n",
       "  background-color: var(--sklearn-color-fitted-level-2);\n",
       "}\n",
       "\n",
       "#sk-container-id-10 div.sk-label label.sk-toggleable__label,\n",
       "#sk-container-id-10 div.sk-label label {\n",
       "  /* The background is the default theme color */\n",
       "  color: var(--sklearn-color-text-on-default-background);\n",
       "}\n",
       "\n",
       "/* On hover, darken the color of the background */\n",
       "#sk-container-id-10 div.sk-label:hover label.sk-toggleable__label {\n",
       "  color: var(--sklearn-color-text);\n",
       "  background-color: var(--sklearn-color-unfitted-level-2);\n",
       "}\n",
       "\n",
       "/* Label box, darken color on hover, fitted */\n",
       "#sk-container-id-10 div.sk-label.fitted:hover label.sk-toggleable__label.fitted {\n",
       "  color: var(--sklearn-color-text);\n",
       "  background-color: var(--sklearn-color-fitted-level-2);\n",
       "}\n",
       "\n",
       "/* Estimator label */\n",
       "\n",
       "#sk-container-id-10 div.sk-label label {\n",
       "  font-family: monospace;\n",
       "  font-weight: bold;\n",
       "  display: inline-block;\n",
       "  line-height: 1.2em;\n",
       "}\n",
       "\n",
       "#sk-container-id-10 div.sk-label-container {\n",
       "  text-align: center;\n",
       "}\n",
       "\n",
       "/* Estimator-specific */\n",
       "#sk-container-id-10 div.sk-estimator {\n",
       "  font-family: monospace;\n",
       "  border: 1px dotted var(--sklearn-color-border-box);\n",
       "  border-radius: 0.25em;\n",
       "  box-sizing: border-box;\n",
       "  margin-bottom: 0.5em;\n",
       "  /* unfitted */\n",
       "  background-color: var(--sklearn-color-unfitted-level-0);\n",
       "}\n",
       "\n",
       "#sk-container-id-10 div.sk-estimator.fitted {\n",
       "  /* fitted */\n",
       "  background-color: var(--sklearn-color-fitted-level-0);\n",
       "}\n",
       "\n",
       "/* on hover */\n",
       "#sk-container-id-10 div.sk-estimator:hover {\n",
       "  /* unfitted */\n",
       "  background-color: var(--sklearn-color-unfitted-level-2);\n",
       "}\n",
       "\n",
       "#sk-container-id-10 div.sk-estimator.fitted:hover {\n",
       "  /* fitted */\n",
       "  background-color: var(--sklearn-color-fitted-level-2);\n",
       "}\n",
       "\n",
       "/* Specification for estimator info (e.g. \"i\" and \"?\") */\n",
       "\n",
       "/* Common style for \"i\" and \"?\" */\n",
       "\n",
       ".sk-estimator-doc-link,\n",
       "a:link.sk-estimator-doc-link,\n",
       "a:visited.sk-estimator-doc-link {\n",
       "  float: right;\n",
       "  font-size: smaller;\n",
       "  line-height: 1em;\n",
       "  font-family: monospace;\n",
       "  background-color: var(--sklearn-color-background);\n",
       "  border-radius: 1em;\n",
       "  height: 1em;\n",
       "  width: 1em;\n",
       "  text-decoration: none !important;\n",
       "  margin-left: 1ex;\n",
       "  /* unfitted */\n",
       "  border: var(--sklearn-color-unfitted-level-1) 1pt solid;\n",
       "  color: var(--sklearn-color-unfitted-level-1);\n",
       "}\n",
       "\n",
       ".sk-estimator-doc-link.fitted,\n",
       "a:link.sk-estimator-doc-link.fitted,\n",
       "a:visited.sk-estimator-doc-link.fitted {\n",
       "  /* fitted */\n",
       "  border: var(--sklearn-color-fitted-level-1) 1pt solid;\n",
       "  color: var(--sklearn-color-fitted-level-1);\n",
       "}\n",
       "\n",
       "/* On hover */\n",
       "div.sk-estimator:hover .sk-estimator-doc-link:hover,\n",
       ".sk-estimator-doc-link:hover,\n",
       "div.sk-label-container:hover .sk-estimator-doc-link:hover,\n",
       ".sk-estimator-doc-link:hover {\n",
       "  /* unfitted */\n",
       "  background-color: var(--sklearn-color-unfitted-level-3);\n",
       "  color: var(--sklearn-color-background);\n",
       "  text-decoration: none;\n",
       "}\n",
       "\n",
       "div.sk-estimator.fitted:hover .sk-estimator-doc-link.fitted:hover,\n",
       ".sk-estimator-doc-link.fitted:hover,\n",
       "div.sk-label-container:hover .sk-estimator-doc-link.fitted:hover,\n",
       ".sk-estimator-doc-link.fitted:hover {\n",
       "  /* fitted */\n",
       "  background-color: var(--sklearn-color-fitted-level-3);\n",
       "  color: var(--sklearn-color-background);\n",
       "  text-decoration: none;\n",
       "}\n",
       "\n",
       "/* Span, style for the box shown on hovering the info icon */\n",
       ".sk-estimator-doc-link span {\n",
       "  display: none;\n",
       "  z-index: 9999;\n",
       "  position: relative;\n",
       "  font-weight: normal;\n",
       "  right: .2ex;\n",
       "  padding: .5ex;\n",
       "  margin: .5ex;\n",
       "  width: min-content;\n",
       "  min-width: 20ex;\n",
       "  max-width: 50ex;\n",
       "  color: var(--sklearn-color-text);\n",
       "  box-shadow: 2pt 2pt 4pt #999;\n",
       "  /* unfitted */\n",
       "  background: var(--sklearn-color-unfitted-level-0);\n",
       "  border: .5pt solid var(--sklearn-color-unfitted-level-3);\n",
       "}\n",
       "\n",
       ".sk-estimator-doc-link.fitted span {\n",
       "  /* fitted */\n",
       "  background: var(--sklearn-color-fitted-level-0);\n",
       "  border: var(--sklearn-color-fitted-level-3);\n",
       "}\n",
       "\n",
       ".sk-estimator-doc-link:hover span {\n",
       "  display: block;\n",
       "}\n",
       "\n",
       "/* \"?\"-specific style due to the `<a>` HTML tag */\n",
       "\n",
       "#sk-container-id-10 a.estimator_doc_link {\n",
       "  float: right;\n",
       "  font-size: 1rem;\n",
       "  line-height: 1em;\n",
       "  font-family: monospace;\n",
       "  background-color: var(--sklearn-color-background);\n",
       "  border-radius: 1rem;\n",
       "  height: 1rem;\n",
       "  width: 1rem;\n",
       "  text-decoration: none;\n",
       "  /* unfitted */\n",
       "  color: var(--sklearn-color-unfitted-level-1);\n",
       "  border: var(--sklearn-color-unfitted-level-1) 1pt solid;\n",
       "}\n",
       "\n",
       "#sk-container-id-10 a.estimator_doc_link.fitted {\n",
       "  /* fitted */\n",
       "  border: var(--sklearn-color-fitted-level-1) 1pt solid;\n",
       "  color: var(--sklearn-color-fitted-level-1);\n",
       "}\n",
       "\n",
       "/* On hover */\n",
       "#sk-container-id-10 a.estimator_doc_link:hover {\n",
       "  /* unfitted */\n",
       "  background-color: var(--sklearn-color-unfitted-level-3);\n",
       "  color: var(--sklearn-color-background);\n",
       "  text-decoration: none;\n",
       "}\n",
       "\n",
       "#sk-container-id-10 a.estimator_doc_link.fitted:hover {\n",
       "  /* fitted */\n",
       "  background-color: var(--sklearn-color-fitted-level-3);\n",
       "}\n",
       "</style><div id=\"sk-container-id-10\" class=\"sk-top-container\"><div class=\"sk-text-repr-fallback\"><pre>DBSCAN(eps=20)</pre><b>In a Jupyter environment, please rerun this cell to show the HTML representation or trust the notebook. <br />On GitHub, the HTML representation is unable to render, please try loading this page with nbviewer.org.</b></div><div class=\"sk-container\" hidden><div class=\"sk-item\"><div class=\"sk-estimator fitted sk-toggleable\"><input class=\"sk-toggleable__control sk-hidden--visually\" id=\"sk-estimator-id-10\" type=\"checkbox\" checked><label for=\"sk-estimator-id-10\" class=\"sk-toggleable__label fitted sk-toggleable__label-arrow fitted\">&nbsp;&nbsp;DBSCAN<a class=\"sk-estimator-doc-link fitted\" rel=\"noreferrer\" target=\"_blank\" href=\"https://scikit-learn.org/1.5/modules/generated/sklearn.cluster.DBSCAN.html\">?<span>Documentation for DBSCAN</span></a><span class=\"sk-estimator-doc-link fitted\">i<span>Fitted</span></span></label><div class=\"sk-toggleable__content fitted\"><pre>DBSCAN(eps=20)</pre></div> </div></div></div></div>"
      ],
      "text/plain": [
       "DBSCAN(eps=20)"
      ]
     },
     "execution_count": 63,
     "metadata": {},
     "output_type": "execute_result"
    }
   ],
   "source": [
    "from sklearn.cluster import KMeans\n",
    "from sklearn.cluster import DBSCAN\n",
    "\n",
    "# kmeans = KMeans(n_clusters=3)\n",
    "# kmeans.fit(df_vis['PCA'].tolist())\n",
    "\n",
    "dbscan = DBSCAN(eps = 20)\n",
    "dbscan.fit(df_vis['PCA'].tolist())"
   ]
  },
  {
   "cell_type": "code",
   "execution_count": 64,
   "metadata": {},
   "outputs": [
    {
     "name": "stderr",
     "output_type": "stream",
     "text": [
      "/var/folders/n2/9hl8ftpn3j379grs52lt_3q80000gn/T/ipykernel_7048/830495284.py:2: SettingWithCopyWarning:\n",
      "\n",
      "\n",
      "A value is trying to be set on a copy of a slice from a DataFrame.\n",
      "Try using .loc[row_indexer,col_indexer] = value instead\n",
      "\n",
      "See the caveats in the documentation: https://pandas.pydata.org/pandas-docs/stable/user_guide/indexing.html#returning-a-view-versus-a-copy\n",
      "\n"
     ]
    },
    {
     "data": {
      "text/html": [
       "<div>\n",
       "<style scoped>\n",
       "    .dataframe tbody tr th:only-of-type {\n",
       "        vertical-align: middle;\n",
       "    }\n",
       "\n",
       "    .dataframe tbody tr th {\n",
       "        vertical-align: top;\n",
       "    }\n",
       "\n",
       "    .dataframe thead th {\n",
       "        text-align: right;\n",
       "    }\n",
       "</style>\n",
       "<table border=\"1\" class=\"dataframe\">\n",
       "  <thead>\n",
       "    <tr style=\"text-align: right;\">\n",
       "      <th></th>\n",
       "      <th>deskripsi</th>\n",
       "      <th>bidang</th>\n",
       "      <th>PCA</th>\n",
       "      <th>x</th>\n",
       "      <th>y</th>\n",
       "      <th>Cluster</th>\n",
       "    </tr>\n",
       "  </thead>\n",
       "  <tbody>\n",
       "    <tr>\n",
       "      <th>0</th>\n",
       "      <td>Pemasok bahan baku makanan tradisional</td>\n",
       "      <td>Makanan</td>\n",
       "      <td>[-19.071507, 61.05772]</td>\n",
       "      <td>-19.071507</td>\n",
       "      <td>61.057720</td>\n",
       "      <td>0</td>\n",
       "    </tr>\n",
       "    <tr>\n",
       "      <th>1</th>\n",
       "      <td>Produsen anyaman bambu dan rotan</td>\n",
       "      <td>Kerajinan</td>\n",
       "      <td>[-23.088202, -78.69219]</td>\n",
       "      <td>-23.088202</td>\n",
       "      <td>-78.692192</td>\n",
       "      <td>-1</td>\n",
       "    </tr>\n",
       "    <tr>\n",
       "      <th>2</th>\n",
       "      <td>Pengrajin kain batik pesisir</td>\n",
       "      <td>Tekstil</td>\n",
       "      <td>[7.654587, -71.246475]</td>\n",
       "      <td>7.654587</td>\n",
       "      <td>-71.246475</td>\n",
       "      <td>-1</td>\n",
       "    </tr>\n",
       "    <tr>\n",
       "      <th>3</th>\n",
       "      <td>Pemasok bibit dan pupuk organik</td>\n",
       "      <td>Pertanian</td>\n",
       "      <td>[-7.2591968, 110.378105]</td>\n",
       "      <td>-7.259197</td>\n",
       "      <td>110.378105</td>\n",
       "      <td>0</td>\n",
       "    </tr>\n",
       "    <tr>\n",
       "      <th>4</th>\n",
       "      <td>Produsen bahan baku kosmetik alami</td>\n",
       "      <td>Kosmetik</td>\n",
       "      <td>[69.34787, 27.829145]</td>\n",
       "      <td>69.347870</td>\n",
       "      <td>27.829145</td>\n",
       "      <td>1</td>\n",
       "    </tr>\n",
       "    <tr>\n",
       "      <th>...</th>\n",
       "      <td>...</td>\n",
       "      <td>...</td>\n",
       "      <td>...</td>\n",
       "      <td>...</td>\n",
       "      <td>...</td>\n",
       "      <td>...</td>\n",
       "    </tr>\n",
       "    <tr>\n",
       "      <th>245</th>\n",
       "      <td>Produsen dan eksportir furniture kayu</td>\n",
       "      <td>Furniture</td>\n",
       "      <td>[-89.61386, -99.17351]</td>\n",
       "      <td>-89.613861</td>\n",
       "      <td>-99.173508</td>\n",
       "      <td>6</td>\n",
       "    </tr>\n",
       "    <tr>\n",
       "      <th>246</th>\n",
       "      <td>Distributor ikan segar dan hasil laut</td>\n",
       "      <td>Perikanan</td>\n",
       "      <td>[-91.82911, 81.32788]</td>\n",
       "      <td>-91.829109</td>\n",
       "      <td>81.327881</td>\n",
       "      <td>0</td>\n",
       "    </tr>\n",
       "    <tr>\n",
       "      <th>247</th>\n",
       "      <td>Pemasok komponen elektronik dan gadget</td>\n",
       "      <td>Elektronik</td>\n",
       "      <td>[-39.200752, -11.732681]</td>\n",
       "      <td>-39.200752</td>\n",
       "      <td>-11.732681</td>\n",
       "      <td>0</td>\n",
       "    </tr>\n",
       "    <tr>\n",
       "      <th>248</th>\n",
       "      <td>Distributor sparepart dan aksesoris otomotif</td>\n",
       "      <td>Otomotif</td>\n",
       "      <td>[-68.9803, -9.700406]</td>\n",
       "      <td>-68.980301</td>\n",
       "      <td>-9.700406</td>\n",
       "      <td>0</td>\n",
       "    </tr>\n",
       "    <tr>\n",
       "      <th>249</th>\n",
       "      <td>Penghasil dan pemasok teh berkualitas</td>\n",
       "      <td>Perkebunan</td>\n",
       "      <td>[55.41164, 72.3086]</td>\n",
       "      <td>55.411640</td>\n",
       "      <td>72.308601</td>\n",
       "      <td>0</td>\n",
       "    </tr>\n",
       "  </tbody>\n",
       "</table>\n",
       "<p>250 rows × 6 columns</p>\n",
       "</div>"
      ],
      "text/plain": [
       "                                        deskripsi      bidang  \\\n",
       "0          Pemasok bahan baku makanan tradisional     Makanan   \n",
       "1                Produsen anyaman bambu dan rotan   Kerajinan   \n",
       "2                    Pengrajin kain batik pesisir     Tekstil   \n",
       "3                 Pemasok bibit dan pupuk organik   Pertanian   \n",
       "4              Produsen bahan baku kosmetik alami    Kosmetik   \n",
       "..                                            ...         ...   \n",
       "245         Produsen dan eksportir furniture kayu   Furniture   \n",
       "246         Distributor ikan segar dan hasil laut   Perikanan   \n",
       "247        Pemasok komponen elektronik dan gadget  Elektronik   \n",
       "248  Distributor sparepart dan aksesoris otomotif    Otomotif   \n",
       "249         Penghasil dan pemasok teh berkualitas  Perkebunan   \n",
       "\n",
       "                          PCA          x           y  Cluster  \n",
       "0      [-19.071507, 61.05772] -19.071507   61.057720        0  \n",
       "1     [-23.088202, -78.69219] -23.088202  -78.692192       -1  \n",
       "2      [7.654587, -71.246475]   7.654587  -71.246475       -1  \n",
       "3    [-7.2591968, 110.378105]  -7.259197  110.378105        0  \n",
       "4       [69.34787, 27.829145]  69.347870   27.829145        1  \n",
       "..                        ...        ...         ...      ...  \n",
       "245    [-89.61386, -99.17351] -89.613861  -99.173508        6  \n",
       "246     [-91.82911, 81.32788] -91.829109   81.327881        0  \n",
       "247  [-39.200752, -11.732681] -39.200752  -11.732681        0  \n",
       "248     [-68.9803, -9.700406] -68.980301   -9.700406        0  \n",
       "249       [55.41164, 72.3086]  55.411640   72.308601        0  \n",
       "\n",
       "[250 rows x 6 columns]"
      ]
     },
     "execution_count": 64,
     "metadata": {},
     "output_type": "execute_result"
    }
   ],
   "source": [
    "# df_vis['Cluster'] =  kmeans.predict(df_vis['PCA'].tolist())\n",
    "df_vis['Cluster'] =  dbscan.labels_\n",
    "df_vis"
   ]
  },
  {
   "cell_type": "code",
   "execution_count": 65,
   "metadata": {},
   "outputs": [
    {
     "data": {
      "application/vnd.plotly.v1+json": {
       "config": {
        "plotlyServerURL": "https://plot.ly"
       },
       "data": [
        {
         "customdata": [
          [
           "Pemasok bahan baku makanan tradisional"
          ],
          [
           "Produsen anyaman bambu dan rotan"
          ],
          [
           "Pengrajin kain batik pesisir"
          ],
          [
           "Pemasok bibit dan pupuk organik"
          ],
          [
           "Produsen bahan baku kosmetik alami"
          ],
          [
           "Pemasok kayu jati berkualitas"
          ],
          [
           "Distributor ikan segar dan olahan"
          ],
          [
           "Pemasok komponen elektronik"
          ],
          [
           "Distributor suku cadang kendaraan"
          ],
          [
           "Penghasil biji kopi arabika berkualitas"
          ],
          [
           "Menyediakan berbagai macam alat tulis seperti pensil, penghapus, stapler, dan kertas untuk kebutuhan sekolah dan kantor"
          ],
          [
           "Menyediakan berbagai jenis kain"
          ],
          [
           "Pabrik benang berkualitas tinggi"
          ],
          [
           "Menjual alat-alat jahit dan aksesori"
          ],
          [
           "Distributor aksesoris dan perlengkapan konveksi"
          ],
          [
           "Menjual kain tradisional Bali"
          ],
          [
           "Produsen pewarna tekstil"
          ],
          [
           "Menjual bahan-bahan konveksi"
          ],
          [
           "Penyedia berbagai jenis kain"
          ],
          [
           "Menjual berbagai jenis mesin jahit"
          ],
          [
           "Pabrik benang rajut berkualitas tinggi"
          ],
          [
           "Menyediakan berbagai jenis kain"
          ],
          [
           "Distributor aksesori dan perlengkapan jahit"
          ],
          [
           "Menjual berbagai bahan jahit"
          ],
          [
           "Menjual kain berkualitas tinggi"
          ],
          [
           "Pemasok benang berkualitas"
          ],
          [
           "Menyediakan perlengkapan jahit"
          ],
          [
           "Menjual kain premium"
          ],
          [
           "Pemasok bahan konveksi"
          ],
          [
           "Menjual kain tradisional Maluku"
          ],
          [
           "Produsen pewarna tekstil"
          ],
          [
           "Distributor aksesori dan perlengkapan jahit"
          ],
          [
           "Menjual berbagai jenis kain"
          ],
          [
           "Menjual bahan-bahan jahit"
          ],
          [
           "Menjual kain berkualitas tinggi"
          ],
          [
           "Pemasok benang berkualitas"
          ],
          [
           "Menjual berbagai bahan jahit"
          ],
          [
           "Menjual kain premium"
          ],
          [
           "Produsen pewarna tekstil"
          ],
          [
           "Menyediakan berbagai bahan jahit"
          ],
          [
           "Pemasok benang berkualitas tinggi"
          ],
          [
           "Menjual kain tradisional NTT"
          ],
          [
           "Distributor aksesori dan perlengkapan jahit"
          ],
          [
           "Pemasok bahan konveksi"
          ],
          [
           "Menjual kain premium"
          ],
          [
           "Pabrik benang rajut berkualitas tinggi"
          ],
          [
           "Menjual bahan-bahan jahit"
          ],
          [
           "Menjual berbagai jenis mesin jahit"
          ],
          [
           "Pabrik benang berkualitas tinggi"
          ],
          [
           "Distributor aksesoris dan perlengkapan konveksi"
          ],
          [
           "Menyediakan berbagai jenis kain"
          ],
          [
           "Supplier ekstrak alami untuk skincare"
          ],
          [
           "Menyediakan bahan mentah organik"
          ],
          [
           "Supplier bahan herbal untuk kosmetik"
          ],
          [
           "Menyediakan minyak esensial untuk skincare"
          ],
          [
           "Supplier minyak alami"
          ],
          [
           "Menyediakan ekstrak herbal"
          ],
          [
           "Supplier ekstrak tanaman"
          ],
          [
           "Menyediakan bahan organik"
          ],
          [
           "Supplier bahan mentah kosmetik"
          ],
          [
           "Menyediakan solusi bahan alami"
          ],
          [
           "Supplier bahan kecantikan"
          ],
          [
           "Menyediakan bahan dasar skincare"
          ],
          [
           "Supplier bahan organik untuk skincare"
          ],
          [
           "Menyediakan bahan botani murni"
          ],
          [
           "Supplier bahan untuk produk skincare"
          ],
          [
           "Menyediakan bahan herbal alami"
          ],
          [
           "Supplier ekstrak botani"
          ],
          [
           "Menyediakan bahan mentah organik"
          ],
          [
           "Supplier bahan aktif untuk skincare"
          ],
          [
           "Menyediakan ekstrak esensial"
          ],
          [
           "Supplier bahan premium untuk kosmetik"
          ],
          [
           "Menyediakan solusi bahan botani"
          ],
          [
           "Supplier ekstrak organik"
          ],
          [
           "Menyediakan bahan mentah murni"
          ],
          [
           "Supplier bahan botani alami"
          ],
          [
           "Menyediakan bahan herbal untuk skincare"
          ],
          [
           "Supplier minyak esensial murni"
          ],
          [
           "Menyediakan bahan alami untuk skincare"
          ],
          [
           "Supplier bahan mentah kecantikan"
          ],
          [
           "Menyediakan bahan botani organik"
          ],
          [
           "Supplier solusi bahan herbal"
          ],
          [
           "Supplier kayu untuk furniture"
          ],
          [
           "Menyediakan bahan tekstil untuk busana"
          ],
          [
           "Supplier kayu solid"
          ],
          [
           "Menyediakan bahan kain"
          ],
          [
           "Supplier kayu keras"
          ],
          [
           "Menyediakan kain untuk busana"
          ],
          [
           "Supplier bahan mentah untuk furniture"
          ],
          [
           "Menyediakan berbagai jenis kain"
          ],
          [
           "Supplier bahan kayu"
          ],
          [
           "Menyediakan bahan tekstil"
          ],
          [
           "Supplier kayu untuk pembuatan furniture"
          ],
          [
           "Menyediakan bahan kain untuk busana"
          ],
          [
           "Supplier kayu solid"
          ],
          [
           "Menyediakan bahan kain"
          ],
          [
           "Supplier bahan kayu"
          ],
          [
           "Menyediakan berbagai jenis kain"
          ],
          [
           "Supplier kayu keras"
          ],
          [
           "Menyediakan bahan tekstil untuk busana"
          ],
          [
           "Supplier kayu solid"
          ],
          [
           "Menyediakan bahan kain"
          ],
          [
           "Supplier kayu untuk pembuatan furniture"
          ],
          [
           "Menyediakan bahan tekstil"
          ],
          [
           "Supplier bahan kayu"
          ],
          [
           "Menyediakan bahan kain untuk busana"
          ],
          [
           "Supplier kayu untuk furniture"
          ],
          [
           "Menyediakan berbagai jenis kain"
          ],
          [
           "Supplier kayu keras"
          ],
          [
           "Menyediakan bahan kain"
          ],
          [
           "Supplier bahan kayu"
          ],
          [
           "Menyediakan bahan tekstil untuk busana"
          ],
          [
           "Supplier kayu solid"
          ],
          [
           "Menyediakan berbagai jenis kain"
          ],
          [
           "Supplier kayu keras"
          ],
          [
           "Menyediakan bahan kain untuk busana"
          ],
          [
           "Supplier kayu untuk pembuatan furniture"
          ],
          [
           "Menyediakan bahan tekstil"
          ],
          [
           "Supplier kayu solid"
          ],
          [
           "Menyediakan berbagai jenis kain"
          ],
          [
           "Supplier kayu untuk furniture"
          ],
          [
           "Menyediakan bahan tekstil"
          ],
          [
           "Supplier bahan kayu"
          ],
          [
           "Menyediakan bahan kain untuk busana"
          ],
          [
           "Supplier kayu untuk furniture"
          ],
          [
           "Menyediakan bahan tekstil"
          ],
          [
           "Supplier kayu keras"
          ],
          [
           "Menyediakan berbagai jenis kain"
          ],
          [
           "Supplier bahan kayu"
          ],
          [
           "Supplier komponen otomotif"
          ],
          [
           "Menyediakan bahan baku logam"
          ],
          [
           "Supplier bahan karet"
          ],
          [
           "Menyediakan komponen logam"
          ],
          [
           "Supplier bahan plastik"
          ],
          [
           "Menyediakan komponen mesin"
          ],
          [
           "Supplier bahan kimia untuk otomotif"
          ],
          [
           "Menyediakan kaca otomotif"
          ],
          [
           "Supplier baterai untuk otomotif"
          ],
          [
           "Menyediakan velg alloy"
          ],
          [
           "Supplier komponen rem"
          ],
          [
           "Menyediakan sistem bahan bakar"
          ],
          [
           "Supplier komponen knalpot"
          ],
          [
           "Menyediakan komponen suspensi"
          ],
          [
           "Supplier bahan interior otomotif"
          ],
          [
           "Menyediakan kabel dan sistem kelistrikan"
          ],
          [
           "Supplier komponen pencahayaan otomotif"
          ],
          [
           "Menyediakan sistem penggerak"
          ],
          [
           "Supplier komponen pendingin"
          ],
          [
           "Menyediakan komponen transmisi"
          ],
          [
           "Supplier pelumas otomotif"
          ],
          [
           "Supplier bahan baku makanan"
          ],
          [
           "Menyediakan bahan baku minuman"
          ],
          [
           "Supplier bahan pangan"
          ],
          [
           "Menyediakan bahan untuk minuman"
          ],
          [
           "Supplier tepung untuk makanan"
          ],
          [
           "Menyediakan bahan baku jus"
          ],
          [
           "Supplier bahan baku makanan laut"
          ],
          [
           "Menyediakan bahan untuk minuman fermentasi"
          ],
          [
           "Supplier bahan baku sayuran"
          ],
          [
           "Menyediakan bahan baku susu"
          ],
          [
           "Supplier biji-bijian"
          ],
          [
           "Menyediakan bahan baku air minum"
          ],
          [
           "Supplier daging"
          ],
          [
           "Menyediakan bahan baku minuman ringan"
          ],
          [
           "Supplier bahan baku unggas"
          ],
          [
           "Menyediakan bahan untuk minuman herbal"
          ],
          [
           "Supplier produk olahan susu"
          ],
          [
           "Menyediakan bahan baku minuman organik"
          ],
          [
           "Supplier rempah-rempah"
          ],
          [
           "Menyediakan biji kopi"
          ],
          [
           "Supplier biji-bijian ekspor"
          ],
          [
           "Menyediakan bahan baku untuk air kemasan"
          ],
          [
           "Supplier bahan baku organik"
          ],
          [
           "Menyediakan bahan campuran minuman"
          ],
          [
           "Supplier bahan makanan beku"
          ],
          [
           "Menyediakan berbagai jenis teh"
          ],
          [
           "Supplier hasil laut"
          ],
          [
           "Menyediakan bahan untuk soda"
          ],
          [
           "Supplier produk unggas"
          ],
          [
           "Menyediakan bahan dasar minuman"
          ],
          [
           "Supplier kacang-kacangan"
          ],
          [
           "Menyediakan bahan baku minuman"
          ],
          [
           "Supplier sayuran segar"
          ],
          [
           "Menyediakan bahan baku produk susu"
          ],
          [
           "Supplier buah segar"
          ],
          [
           "Menyediakan bahan baku minuman herbal"
          ],
          [
           "Supplier bahan untuk bakery"
          ],
          [
           "Menyediakan bahan baku minuman"
          ],
          [
           "Supplier bahan untuk snack"
          ],
          [
           "Menyediakan bahan baku untuk jus"
          ],
          [
           "Supplier bahan baku sereal"
          ],
          [
           "Menyediakan bahan baku minuman ringan"
          ],
          [
           "Supplier produk daging"
          ],
          [
           "Menyediakan bahan baku minuman organik"
          ],
          [
           "Supplier makanan laut beku"
          ],
          [
           "Menyediakan bahan baku jus"
          ],
          [
           "Supplier bahan baku mie"
          ],
          [
           "Supplier bahan perasa untuk makanan"
          ],
          [
           "Menyediakan bahan esens untuk minuman"
          ],
          [
           "Supplier bahan baku bumbu"
          ],
          [
           "Pemasok bahan baku makanan tradisional"
          ],
          [
           "Produsen anyaman bambu dan rotan"
          ],
          [
           "Pengrajin kain batik pesisir"
          ],
          [
           "Pemasok bibit dan pupuk organik"
          ],
          [
           "Produsen bahan baku kosmetik alami"
          ],
          [
           "Pemasok kayu jati berkualitas"
          ],
          [
           "Distributor ikan segar dan olahan"
          ],
          [
           "Pemasok komponen elektronik"
          ],
          [
           "Distributor suku cadang kendaraan"
          ],
          [
           "Penghasil biji kopi arabika berkualitas"
          ],
          [
           "Menyediakan berbagai macam alat tulis"
          ],
          [
           "Menyediakan berbagai jenis kain"
          ],
          [
           "Pabrik benang berkualitas tinggi"
          ],
          [
           "Menjual alat-alat jahit dan aksesori"
          ],
          [
           "Distributor aksesoris dan perlengkapan konveksi"
          ],
          [
           "Menjual kain tradisional Bali"
          ],
          [
           "Produsen pewarna tekstil"
          ],
          [
           "Menjual bahan-bahan konveksi"
          ],
          [
           "Penyedia berbagai jenis kain"
          ],
          [
           "Menjual berbagai jenis mesin jahit"
          ],
          [
           "Pabrik benang rajut berkualitas tinggi"
          ],
          [
           "Menyediakan berbagai jenis kain"
          ],
          [
           "Distributor aksesori dan perlengkapan jahit"
          ],
          [
           "Menjual berbagai bahan jahit"
          ],
          [
           "Menjual kain berkualitas tinggi"
          ],
          [
           "Pemasok benang berkualitas"
          ],
          [
           "Menyediakan perlengkapan jahit"
          ],
          [
           "Menjual kain premium"
          ],
          [
           "Pemasok bahan konveksi"
          ],
          [
           "Menjual kain tradisional Maluku"
          ],
          [
           "Produsen pewarna tekstil"
          ],
          [
           "Distributor aksesori dan perlengkapan jahit"
          ],
          [
           "Menjual berbagai jenis kain"
          ],
          [
           "Menjual bahan-bahan jahit"
          ],
          [
           "Menjual kain berkualitas tinggi"
          ],
          [
           "Pemasok benang berkualitas"
          ],
          [
           "Menjual berbagai bahan jahit"
          ],
          [
           "Menjual kain premium"
          ],
          [
           "Pemasok bahan konveksi"
          ],
          [
           "Menjual kain tradisional Papua"
          ],
          [
           "Produsen makanan olahan dan camilan tradisional"
          ],
          [
           "Pengrajin souvenir dan kerajinan tangan"
          ],
          [
           "Produsen kain dan tekstil"
          ],
          [
           "Pemasok hasil pertanian organik"
          ],
          [
           "Produsen bahan baku kosmetik dari bahan alam"
          ],
          [
           "Produsen dan eksportir furniture kayu"
          ],
          [
           "Distributor ikan segar dan hasil laut"
          ],
          [
           "Pemasok komponen elektronik dan gadget"
          ],
          [
           "Distributor sparepart dan aksesoris otomotif"
          ],
          [
           "Penghasil dan pemasok teh berkualitas"
          ]
         ],
         "hovertemplate": "x=%{x}<br>y=%{y}<br>deskripsi=%{customdata[0]}<br>Cluster=%{marker.color}<extra></extra>",
         "legendgroup": "",
         "marker": {
          "color": [
           0,
           -1,
           -1,
           0,
           1,
           -1,
           0,
           0,
           0,
           0,
           0,
           2,
           0,
           3,
           0,
           3,
           2,
           3,
           2,
           3,
           0,
           2,
           4,
           3,
           3,
           0,
           0,
           3,
           0,
           3,
           2,
           4,
           3,
           3,
           3,
           0,
           3,
           3,
           2,
           0,
           0,
           3,
           4,
           0,
           3,
           0,
           3,
           3,
           0,
           0,
           2,
           5,
           0,
           1,
           5,
           -1,
           0,
           0,
           0,
           1,
           0,
           1,
           5,
           5,
           0,
           5,
           0,
           0,
           0,
           5,
           0,
           1,
           0,
           0,
           0,
           0,
           5,
           0,
           5,
           1,
           0,
           0,
           6,
           2,
           6,
           2,
           6,
           2,
           6,
           2,
           6,
           2,
           6,
           2,
           6,
           2,
           6,
           2,
           6,
           2,
           6,
           2,
           6,
           2,
           6,
           2,
           6,
           2,
           6,
           2,
           6,
           2,
           6,
           2,
           6,
           2,
           6,
           2,
           6,
           2,
           6,
           2,
           6,
           2,
           6,
           2,
           6,
           2,
           6,
           0,
           0,
           0,
           0,
           0,
           0,
           0,
           0,
           0,
           0,
           0,
           0,
           0,
           0,
           0,
           0,
           0,
           0,
           0,
           0,
           0,
           0,
           0,
           0,
           0,
           0,
           0,
           0,
           0,
           0,
           0,
           0,
           0,
           0,
           0,
           0,
           0,
           -1,
           0,
           0,
           0,
           0,
           0,
           0,
           0,
           0,
           0,
           0,
           0,
           0,
           0,
           0,
           0,
           0,
           -1,
           0,
           0,
           0,
           0,
           0,
           0,
           0,
           0,
           0,
           0,
           0,
           0,
           0,
           0,
           0,
           0,
           0,
           -1,
           -1,
           0,
           1,
           -1,
           0,
           0,
           0,
           0,
           0,
           2,
           0,
           3,
           0,
           3,
           2,
           3,
           2,
           3,
           0,
           2,
           4,
           3,
           3,
           0,
           0,
           3,
           0,
           3,
           2,
           4,
           3,
           3,
           3,
           0,
           3,
           3,
           0,
           3,
           0,
           0,
           2,
           0,
           1,
           6,
           0,
           0,
           0,
           0
          ],
          "coloraxis": "coloraxis",
          "symbol": "circle"
         },
         "mode": "markers",
         "name": "",
         "orientation": "v",
         "showlegend": false,
         "type": "scatter",
         "x": [
          -19.07150650024414,
          -23.08820152282715,
          7.6545867919921875,
          -7.259196758270264,
          69.34786987304688,
          -46.64046096801758,
          -98.19219207763672,
          -40.242210388183594,
          -82.34404754638672,
          42.928794860839844,
          16.662464141845703,
          47.73701095581055,
          -22.435373306274414,
          58.40083694458008,
          -53.12525177001953,
          93.59947204589844,
          3.9735589027404785,
          41.054298400878906,
          35.48490905761719,
          39.509178161621094,
          -20.600055694580078,
          42.712162017822266,
          16.30592918395996,
          58.94962692260742,
          76.23208618164062,
          2.428314447402954,
          0.2686934769153595,
          90.96466827392578,
          -15.865748405456543,
          101.96778869628906,
          3.9735589027404785,
          16.30592918395996,
          67.74525451660156,
          61.48944091796875,
          76.23208618164062,
          2.428314447402954,
          53.68466567993164,
          90.96466827392578,
          -0.9479593634605408,
          -1.6627259254455566,
          8.942937850952148,
          79.59700012207031,
          16.30592918395996,
          -10.972041130065918,
          90.96466827392578,
          -28.131174087524414,
          54.87777328491211,
          39.752052307128906,
          -27.97780418395996,
          -56.300621032714844,
          34.49437713623047,
          101.60706329345703,
          -23.882564544677734,
          66.9799575805664,
          106.5600357055664,
          -85.55776977539062,
          26.784086227416992,
          -30.71112060546875,
          -21.114770889282227,
          70.37289428710938,
          -19.99964141845703,
          62.17143249511719,
          98.1099853515625,
          84.61920166015625,
          -7.989805698394775,
          92.84774017333984,
          11.37401294708252,
          -23.85370445251465,
          -16.505008697509766,
          99.80699920654297,
          -7.995144844055176,
          77.8107681274414,
          -1.4237881898880005,
          -37.212127685546875,
          -9.23144817352295,
          -15.142773628234863,
          90.85403442382812,
          -81.05122375488281,
          92.0575942993164,
          59.51518630981445,
          -9.580138206481934,
          17.434667587280273,
          -77.4162826538086,
          54.936622619628906,
          -116.96815490722656,
          25.338247299194336,
          -89.62699127197266,
          65.43730926513672,
          -65.3695297241211,
          47.091835021972656,
          -104.76831817626953,
          13.688924789428711,
          -78.80851745605469,
          65.81155395507812,
          -116.96815490722656,
          29.047622680664062,
          -95.0900650024414,
          28.743053436279297,
          -98.2115707397461,
          54.936622619628906,
          -116.96815490722656,
          29.047622680664062,
          -78.80851745605469,
          6.4607768058776855,
          -96.05099487304688,
          65.81155395507812,
          -77.4162826538086,
          26.238122940063477,
          -98.2115707397461,
          29.047622680664062,
          -104.76831817626953,
          54.936622619628906,
          -116.96815490722656,
          52.666194915771484,
          -107.38333892822266,
          57.21766662597656,
          -78.80851745605469,
          13.688924789428711,
          -116.96815490722656,
          38.56186294555664,
          -77.4162826538086,
          13.688924789428711,
          -95.0900650024414,
          57.21766662597656,
          -77.4162826538086,
          15.090428352355957,
          -103.97354125976562,
          42.66646194458008,
          -104.76831817626953,
          -77.76143646240234,
          -14.141399383544922,
          -44.73005676269531,
          -18.192659378051758,
          -7.010275363922119,
          -34.10686111450195,
          -88.48926544189453,
          -12.987347602844238,
          -62.590232849121094,
          -7.942831516265869,
          -68.88326263427734,
          -34.8300666809082,
          -63.297210693359375,
          -24.428529739379883,
          -84.9836654663086,
          -46.42914962768555,
          -93.72230529785156,
          -24.110015869140625,
          -71.33405303955078,
          -46.39366149902344,
          -76.58527374267578,
          -50.26495361328125,
          10.43301773071289,
          -58.85853576660156,
          20.388090133666992,
          -37.826446533203125,
          24.33483123779297,
          -83.21204376220703,
          24.029306411743164,
          -56.88079833984375,
          42.595401763916016,
          -55.89098358154297,
          -2.464487314224243,
          39.60640335083008,
          11.527652740478516,
          -46.245018005371094,
          17.704349517822266,
          49.136940002441406,
          -3.5655603408813477,
          -34.918697357177734,
          33.260494232177734,
          -63.1091194152832,
          -9.419028282165527,
          -30.90703582763672,
          19.138229370117188,
          -51.909664154052734,
          49.539676666259766,
          -81.71333312988281,
          9.500694274902344,
          -53.55769348144531,
          14.11700439453125,
          -60.98005676269531,
          1.8754197359085083,
          -59.85240173339844,
          42.11866760253906,
          -61.48179244995117,
          19.19418716430664,
          -35.76192092895508,
          10.43301773071289,
          -43.76810073852539,
          20.46167755126953,
          -45.797401428222656,
          3.9690489768981934,
          37.516868591308594,
          -7.210495471954346,
          -76.99954223632812,
          24.33483123779297,
          -25.04909896850586,
          -44.107608795166016,
          6.247069358825684,
          -48.14041519165039,
          -25.393789291381836,
          -19.830623626708984,
          12.896300315856934,
          -13.134406089782715,
          74.53076171875,
          -42.29092025756836,
          -93.05757904052734,
          -34.225589752197266,
          -77.38220977783203,
          42.928794860839844,
          10.356354713439941,
          33.86447525024414,
          -19.918903350830078,
          58.40083694458008,
          -60.50505065917969,
          98.9495620727539,
          -0.9479593634605408,
          41.054298400878906,
          35.48490905761719,
          39.752052307128906,
          -28.131174087524414,
          42.712162017822266,
          16.30592918395996,
          62.2723274230957,
          76.23208618164062,
          10.083029747009277,
          3.9775376319885254,
          90.96466827392578,
          -10.972041130065918,
          101.96778869628906,
          -5.610956192016602,
          16.30592918395996,
          67.74525451660156,
          51.63861083984375,
          83.70030212402344,
          1.799201488494873,
          66.8519058227539,
          90.96466827392578,
          -10.972041130065918,
          92.25537872314453,
          -23.770648956298828,
          20.878089904785156,
          14.037142753601074,
          -21.722545623779297,
          67.57382202148438,
          -89.61386108398438,
          -91.82910919189453,
          -39.20075225830078,
          -68.98030090332031,
          55.41164016723633
         ],
         "xaxis": "x",
         "y": [
          61.05772018432617,
          -78.69219207763672,
          -71.24647521972656,
          110.37810516357422,
          27.829145431518555,
          -48.59675598144531,
          77.53512573242188,
          -4.326487064361572,
          -10.781158447265625,
          57.03653335571289,
          3.8127243518829346,
          -129.72901916503906,
          -40.30906295776367,
          -52.2545166015625,
          -18.863357543945312,
          -93.04373168945312,
          -123.4588394165039,
          -17.763267517089844,
          -131.50515747070312,
          -45.304386138916016,
          -23.255130767822266,
          -121.46844482421875,
          -34.51969528198242,
          -34.24028396606445,
          -58.195899963378906,
          33.5987663269043,
          -18.48490333557129,
          -45.99763870239258,
          16.17028045654297,
          -73.25000762939453,
          -123.4588394165039,
          -34.51969528198242,
          -68.90218353271484,
          -25.14263916015625,
          -58.195899963378906,
          33.5987663269043,
          -39.71038055419922,
          -45.99763870239258,
          -114.71066284179688,
          11.758859634399414,
          22.218271255493164,
          -72.11312866210938,
          -34.51969528198242,
          22.426937103271484,
          -45.99763870239258,
          -25.021501541137695,
          -21.270151138305664,
          -52.525699615478516,
          -35.596466064453125,
          -12.074421882629395,
          -107.14569854736328,
          41.44144058227539,
          98.8956069946289,
          39.455902099609375,
          55.64130783081055,
          46.53042984008789,
          118.64697265625,
          138.1845703125,
          105.88349914550781,
          11.952725410461426,
          89.060302734375,
          0.5092172622680664,
          57.18521499633789,
          49.79523468017578,
          130.6134796142578,
          44.27659606933594,
          120.6314697265625,
          138.5813446044922,
          100.06051635742188,
          49.20670700073242,
          44.393653869628906,
          10.242721557617188,
          130.9175567626953,
          112.03365325927734,
          9.657032012939453,
          135.98883056640625,
          61.77362823486328,
          42.97427749633789,
          52.78153610229492,
          5.3526506423950195,
          121.60922241210938,
          129.09429931640625,
          -96.1776123046875,
          -93.45059204101562,
          -72.60818481445312,
          -102.48655700683594,
          -68.11387634277344,
          -111.42931365966797,
          -89.36679077148438,
          -112.82041931152344,
          -82.62311553955078,
          -95.92385864257812,
          -85.07852172851562,
          -100.5194091796875,
          -72.60818481445312,
          -93.71788787841797,
          -77.25230407714844,
          -114.13958740234375,
          -64.40467834472656,
          -93.45059204101562,
          -72.60818481445312,
          -93.71788787841797,
          -85.07852172851562,
          -102.21393585205078,
          -87.37615203857422,
          -100.5194091796875,
          -96.1776123046875,
          -123.85477447509766,
          -64.40467834472656,
          -93.71788787841797,
          -82.62311553955078,
          -93.45059204101562,
          -72.60818481445312,
          -120.60348510742188,
          -61.95915985107422,
          -105.43473052978516,
          -85.07852172851562,
          -95.92385864257812,
          -72.60818481445312,
          -113.56283569335938,
          -96.1776123046875,
          -95.92385864257812,
          -77.25230407714844,
          -105.43473052978516,
          -96.1776123046875,
          -105.28777313232422,
          -71.2880859375,
          -104.8781967163086,
          -82.62311553955078,
          5.241476535797119,
          -0.5469860434532166,
          36.336692810058594,
          -5.339234828948975,
          -48.858795166015625,
          7.755026340484619,
          11.891685485839844,
          34.159366607666016,
          0.09643273055553436,
          -7.953178405761719,
          15.336795806884766,
          19.981313705444336,
          17.627920150756836,
          9.508089065551758,
          1.4993900060653687,
          13.083015441894531,
          -6.190759658813477,
          21.84296417236328,
          24.027414321899414,
          6.004882335662842,
          -4.1693596839904785,
          74.44559478759766,
          66.09760284423828,
          76.1856460571289,
          70.24693298339844,
          58.877506256103516,
          83.43173217773438,
          75.13504028320312,
          53.704261779785156,
          99.81420135498047,
          92.13436889648438,
          46.659271240234375,
          76.72357177734375,
          28.39968490600586,
          56.322509765625,
          44.340057373046875,
          114.2462387084961,
          97.29895782470703,
          99.13987731933594,
          42.96118927001953,
          68.6724853515625,
          48.504825592041016,
          72.92552947998047,
          106.56404876708984,
          62.1589469909668,
          67.98619842529297,
          73.75707244873047,
          84.07402038574219,
          84.66732788085938,
          33.437950134277344,
          74.81277465820312,
          63.245323181152344,
          66.44713592529297,
          105.00868225097656,
          98.62583923339844,
          89.82827758789062,
          120.83625030517578,
          74.98773956298828,
          66.09760284423828,
          82.3772201538086,
          90.39907836914062,
          52.702144622802734,
          58.044803619384766,
          33.70039749145508,
          93.6490707397461,
          76.62022399902344,
          83.43173217773438,
          33.404510498046875,
          69.37442779541016,
          74.38037109375,
          61.47297668457031,
          59.72978591918945,
          -74.48265838623047,
          -70.12313079833984,
          112.17826843261719,
          23.804677963256836,
          -52.51365280151367,
          73.17414855957031,
          -5.859442710876465,
          -14.483606338500977,
          57.03653335571289,
          7.4229960441589355,
          -120.65931701660156,
          -33.46660232543945,
          -52.2545166015625,
          -18.362003326416016,
          -90.892333984375,
          -114.71066284179688,
          -17.763267517089844,
          -131.50515747070312,
          -52.525699615478516,
          -25.021501541137695,
          -121.46844482421875,
          -34.51969528198242,
          -41.4775390625,
          -58.195899963378906,
          30.884479522705078,
          -14.24960708618164,
          -45.99763870239258,
          22.426937103271484,
          -73.25000762939453,
          -123.02494049072266,
          -34.51969528198242,
          -68.90218353271484,
          -28.42930030822754,
          -62.09376907348633,
          25.62531852722168,
          -34.877811431884766,
          -45.99763870239258,
          22.426937103271484,
          -83.50395965576172,
          66.88047790527344,
          25.0376033782959,
          -114.65373992919922,
          116.96049499511719,
          21.078163146972656,
          -99.17350769042969,
          81.327880859375,
          -11.732681274414062,
          -9.700406074523926,
          72.30860137939453
         ],
         "yaxis": "y"
        }
       ],
       "layout": {
        "coloraxis": {
         "colorbar": {
          "title": {
           "text": "Cluster"
          }
         },
         "colorscale": [
          [
           0,
           "#0d0887"
          ],
          [
           0.1111111111111111,
           "#46039f"
          ],
          [
           0.2222222222222222,
           "#7201a8"
          ],
          [
           0.3333333333333333,
           "#9c179e"
          ],
          [
           0.4444444444444444,
           "#bd3786"
          ],
          [
           0.5555555555555556,
           "#d8576b"
          ],
          [
           0.6666666666666666,
           "#ed7953"
          ],
          [
           0.7777777777777778,
           "#fb9f3a"
          ],
          [
           0.8888888888888888,
           "#fdca26"
          ],
          [
           1,
           "#f0f921"
          ]
         ]
        },
        "legend": {
         "tracegroupgap": 0
        },
        "margin": {
         "t": 60
        },
        "template": {
         "data": {
          "bar": [
           {
            "error_x": {
             "color": "#2a3f5f"
            },
            "error_y": {
             "color": "#2a3f5f"
            },
            "marker": {
             "line": {
              "color": "#E5ECF6",
              "width": 0.5
             },
             "pattern": {
              "fillmode": "overlay",
              "size": 10,
              "solidity": 0.2
             }
            },
            "type": "bar"
           }
          ],
          "barpolar": [
           {
            "marker": {
             "line": {
              "color": "#E5ECF6",
              "width": 0.5
             },
             "pattern": {
              "fillmode": "overlay",
              "size": 10,
              "solidity": 0.2
             }
            },
            "type": "barpolar"
           }
          ],
          "carpet": [
           {
            "aaxis": {
             "endlinecolor": "#2a3f5f",
             "gridcolor": "white",
             "linecolor": "white",
             "minorgridcolor": "white",
             "startlinecolor": "#2a3f5f"
            },
            "baxis": {
             "endlinecolor": "#2a3f5f",
             "gridcolor": "white",
             "linecolor": "white",
             "minorgridcolor": "white",
             "startlinecolor": "#2a3f5f"
            },
            "type": "carpet"
           }
          ],
          "choropleth": [
           {
            "colorbar": {
             "outlinewidth": 0,
             "ticks": ""
            },
            "type": "choropleth"
           }
          ],
          "contour": [
           {
            "colorbar": {
             "outlinewidth": 0,
             "ticks": ""
            },
            "colorscale": [
             [
              0,
              "#0d0887"
             ],
             [
              0.1111111111111111,
              "#46039f"
             ],
             [
              0.2222222222222222,
              "#7201a8"
             ],
             [
              0.3333333333333333,
              "#9c179e"
             ],
             [
              0.4444444444444444,
              "#bd3786"
             ],
             [
              0.5555555555555556,
              "#d8576b"
             ],
             [
              0.6666666666666666,
              "#ed7953"
             ],
             [
              0.7777777777777778,
              "#fb9f3a"
             ],
             [
              0.8888888888888888,
              "#fdca26"
             ],
             [
              1,
              "#f0f921"
             ]
            ],
            "type": "contour"
           }
          ],
          "contourcarpet": [
           {
            "colorbar": {
             "outlinewidth": 0,
             "ticks": ""
            },
            "type": "contourcarpet"
           }
          ],
          "heatmap": [
           {
            "colorbar": {
             "outlinewidth": 0,
             "ticks": ""
            },
            "colorscale": [
             [
              0,
              "#0d0887"
             ],
             [
              0.1111111111111111,
              "#46039f"
             ],
             [
              0.2222222222222222,
              "#7201a8"
             ],
             [
              0.3333333333333333,
              "#9c179e"
             ],
             [
              0.4444444444444444,
              "#bd3786"
             ],
             [
              0.5555555555555556,
              "#d8576b"
             ],
             [
              0.6666666666666666,
              "#ed7953"
             ],
             [
              0.7777777777777778,
              "#fb9f3a"
             ],
             [
              0.8888888888888888,
              "#fdca26"
             ],
             [
              1,
              "#f0f921"
             ]
            ],
            "type": "heatmap"
           }
          ],
          "heatmapgl": [
           {
            "colorbar": {
             "outlinewidth": 0,
             "ticks": ""
            },
            "colorscale": [
             [
              0,
              "#0d0887"
             ],
             [
              0.1111111111111111,
              "#46039f"
             ],
             [
              0.2222222222222222,
              "#7201a8"
             ],
             [
              0.3333333333333333,
              "#9c179e"
             ],
             [
              0.4444444444444444,
              "#bd3786"
             ],
             [
              0.5555555555555556,
              "#d8576b"
             ],
             [
              0.6666666666666666,
              "#ed7953"
             ],
             [
              0.7777777777777778,
              "#fb9f3a"
             ],
             [
              0.8888888888888888,
              "#fdca26"
             ],
             [
              1,
              "#f0f921"
             ]
            ],
            "type": "heatmapgl"
           }
          ],
          "histogram": [
           {
            "marker": {
             "pattern": {
              "fillmode": "overlay",
              "size": 10,
              "solidity": 0.2
             }
            },
            "type": "histogram"
           }
          ],
          "histogram2d": [
           {
            "colorbar": {
             "outlinewidth": 0,
             "ticks": ""
            },
            "colorscale": [
             [
              0,
              "#0d0887"
             ],
             [
              0.1111111111111111,
              "#46039f"
             ],
             [
              0.2222222222222222,
              "#7201a8"
             ],
             [
              0.3333333333333333,
              "#9c179e"
             ],
             [
              0.4444444444444444,
              "#bd3786"
             ],
             [
              0.5555555555555556,
              "#d8576b"
             ],
             [
              0.6666666666666666,
              "#ed7953"
             ],
             [
              0.7777777777777778,
              "#fb9f3a"
             ],
             [
              0.8888888888888888,
              "#fdca26"
             ],
             [
              1,
              "#f0f921"
             ]
            ],
            "type": "histogram2d"
           }
          ],
          "histogram2dcontour": [
           {
            "colorbar": {
             "outlinewidth": 0,
             "ticks": ""
            },
            "colorscale": [
             [
              0,
              "#0d0887"
             ],
             [
              0.1111111111111111,
              "#46039f"
             ],
             [
              0.2222222222222222,
              "#7201a8"
             ],
             [
              0.3333333333333333,
              "#9c179e"
             ],
             [
              0.4444444444444444,
              "#bd3786"
             ],
             [
              0.5555555555555556,
              "#d8576b"
             ],
             [
              0.6666666666666666,
              "#ed7953"
             ],
             [
              0.7777777777777778,
              "#fb9f3a"
             ],
             [
              0.8888888888888888,
              "#fdca26"
             ],
             [
              1,
              "#f0f921"
             ]
            ],
            "type": "histogram2dcontour"
           }
          ],
          "mesh3d": [
           {
            "colorbar": {
             "outlinewidth": 0,
             "ticks": ""
            },
            "type": "mesh3d"
           }
          ],
          "parcoords": [
           {
            "line": {
             "colorbar": {
              "outlinewidth": 0,
              "ticks": ""
             }
            },
            "type": "parcoords"
           }
          ],
          "pie": [
           {
            "automargin": true,
            "type": "pie"
           }
          ],
          "scatter": [
           {
            "fillpattern": {
             "fillmode": "overlay",
             "size": 10,
             "solidity": 0.2
            },
            "type": "scatter"
           }
          ],
          "scatter3d": [
           {
            "line": {
             "colorbar": {
              "outlinewidth": 0,
              "ticks": ""
             }
            },
            "marker": {
             "colorbar": {
              "outlinewidth": 0,
              "ticks": ""
             }
            },
            "type": "scatter3d"
           }
          ],
          "scattercarpet": [
           {
            "marker": {
             "colorbar": {
              "outlinewidth": 0,
              "ticks": ""
             }
            },
            "type": "scattercarpet"
           }
          ],
          "scattergeo": [
           {
            "marker": {
             "colorbar": {
              "outlinewidth": 0,
              "ticks": ""
             }
            },
            "type": "scattergeo"
           }
          ],
          "scattergl": [
           {
            "marker": {
             "colorbar": {
              "outlinewidth": 0,
              "ticks": ""
             }
            },
            "type": "scattergl"
           }
          ],
          "scattermapbox": [
           {
            "marker": {
             "colorbar": {
              "outlinewidth": 0,
              "ticks": ""
             }
            },
            "type": "scattermapbox"
           }
          ],
          "scatterpolar": [
           {
            "marker": {
             "colorbar": {
              "outlinewidth": 0,
              "ticks": ""
             }
            },
            "type": "scatterpolar"
           }
          ],
          "scatterpolargl": [
           {
            "marker": {
             "colorbar": {
              "outlinewidth": 0,
              "ticks": ""
             }
            },
            "type": "scatterpolargl"
           }
          ],
          "scatterternary": [
           {
            "marker": {
             "colorbar": {
              "outlinewidth": 0,
              "ticks": ""
             }
            },
            "type": "scatterternary"
           }
          ],
          "surface": [
           {
            "colorbar": {
             "outlinewidth": 0,
             "ticks": ""
            },
            "colorscale": [
             [
              0,
              "#0d0887"
             ],
             [
              0.1111111111111111,
              "#46039f"
             ],
             [
              0.2222222222222222,
              "#7201a8"
             ],
             [
              0.3333333333333333,
              "#9c179e"
             ],
             [
              0.4444444444444444,
              "#bd3786"
             ],
             [
              0.5555555555555556,
              "#d8576b"
             ],
             [
              0.6666666666666666,
              "#ed7953"
             ],
             [
              0.7777777777777778,
              "#fb9f3a"
             ],
             [
              0.8888888888888888,
              "#fdca26"
             ],
             [
              1,
              "#f0f921"
             ]
            ],
            "type": "surface"
           }
          ],
          "table": [
           {
            "cells": {
             "fill": {
              "color": "#EBF0F8"
             },
             "line": {
              "color": "white"
             }
            },
            "header": {
             "fill": {
              "color": "#C8D4E3"
             },
             "line": {
              "color": "white"
             }
            },
            "type": "table"
           }
          ]
         },
         "layout": {
          "annotationdefaults": {
           "arrowcolor": "#2a3f5f",
           "arrowhead": 0,
           "arrowwidth": 1
          },
          "autotypenumbers": "strict",
          "coloraxis": {
           "colorbar": {
            "outlinewidth": 0,
            "ticks": ""
           }
          },
          "colorscale": {
           "diverging": [
            [
             0,
             "#8e0152"
            ],
            [
             0.1,
             "#c51b7d"
            ],
            [
             0.2,
             "#de77ae"
            ],
            [
             0.3,
             "#f1b6da"
            ],
            [
             0.4,
             "#fde0ef"
            ],
            [
             0.5,
             "#f7f7f7"
            ],
            [
             0.6,
             "#e6f5d0"
            ],
            [
             0.7,
             "#b8e186"
            ],
            [
             0.8,
             "#7fbc41"
            ],
            [
             0.9,
             "#4d9221"
            ],
            [
             1,
             "#276419"
            ]
           ],
           "sequential": [
            [
             0,
             "#0d0887"
            ],
            [
             0.1111111111111111,
             "#46039f"
            ],
            [
             0.2222222222222222,
             "#7201a8"
            ],
            [
             0.3333333333333333,
             "#9c179e"
            ],
            [
             0.4444444444444444,
             "#bd3786"
            ],
            [
             0.5555555555555556,
             "#d8576b"
            ],
            [
             0.6666666666666666,
             "#ed7953"
            ],
            [
             0.7777777777777778,
             "#fb9f3a"
            ],
            [
             0.8888888888888888,
             "#fdca26"
            ],
            [
             1,
             "#f0f921"
            ]
           ],
           "sequentialminus": [
            [
             0,
             "#0d0887"
            ],
            [
             0.1111111111111111,
             "#46039f"
            ],
            [
             0.2222222222222222,
             "#7201a8"
            ],
            [
             0.3333333333333333,
             "#9c179e"
            ],
            [
             0.4444444444444444,
             "#bd3786"
            ],
            [
             0.5555555555555556,
             "#d8576b"
            ],
            [
             0.6666666666666666,
             "#ed7953"
            ],
            [
             0.7777777777777778,
             "#fb9f3a"
            ],
            [
             0.8888888888888888,
             "#fdca26"
            ],
            [
             1,
             "#f0f921"
            ]
           ]
          },
          "colorway": [
           "#636efa",
           "#EF553B",
           "#00cc96",
           "#ab63fa",
           "#FFA15A",
           "#19d3f3",
           "#FF6692",
           "#B6E880",
           "#FF97FF",
           "#FECB52"
          ],
          "font": {
           "color": "#2a3f5f"
          },
          "geo": {
           "bgcolor": "white",
           "lakecolor": "white",
           "landcolor": "#E5ECF6",
           "showlakes": true,
           "showland": true,
           "subunitcolor": "white"
          },
          "hoverlabel": {
           "align": "left"
          },
          "hovermode": "closest",
          "mapbox": {
           "style": "light"
          },
          "paper_bgcolor": "white",
          "plot_bgcolor": "#E5ECF6",
          "polar": {
           "angularaxis": {
            "gridcolor": "white",
            "linecolor": "white",
            "ticks": ""
           },
           "bgcolor": "#E5ECF6",
           "radialaxis": {
            "gridcolor": "white",
            "linecolor": "white",
            "ticks": ""
           }
          },
          "scene": {
           "xaxis": {
            "backgroundcolor": "#E5ECF6",
            "gridcolor": "white",
            "gridwidth": 2,
            "linecolor": "white",
            "showbackground": true,
            "ticks": "",
            "zerolinecolor": "white"
           },
           "yaxis": {
            "backgroundcolor": "#E5ECF6",
            "gridcolor": "white",
            "gridwidth": 2,
            "linecolor": "white",
            "showbackground": true,
            "ticks": "",
            "zerolinecolor": "white"
           },
           "zaxis": {
            "backgroundcolor": "#E5ECF6",
            "gridcolor": "white",
            "gridwidth": 2,
            "linecolor": "white",
            "showbackground": true,
            "ticks": "",
            "zerolinecolor": "white"
           }
          },
          "shapedefaults": {
           "line": {
            "color": "#2a3f5f"
           }
          },
          "ternary": {
           "aaxis": {
            "gridcolor": "white",
            "linecolor": "white",
            "ticks": ""
           },
           "baxis": {
            "gridcolor": "white",
            "linecolor": "white",
            "ticks": ""
           },
           "bgcolor": "#E5ECF6",
           "caxis": {
            "gridcolor": "white",
            "linecolor": "white",
            "ticks": ""
           }
          },
          "title": {
           "x": 0.05
          },
          "xaxis": {
           "automargin": true,
           "gridcolor": "white",
           "linecolor": "white",
           "ticks": "",
           "title": {
            "standoff": 15
           },
           "zerolinecolor": "white",
           "zerolinewidth": 2
          },
          "yaxis": {
           "automargin": true,
           "gridcolor": "white",
           "linecolor": "white",
           "ticks": "",
           "title": {
            "standoff": 15
           },
           "zerolinecolor": "white",
           "zerolinewidth": 2
          }
         }
        },
        "xaxis": {
         "anchor": "y",
         "domain": [
          0,
          1
         ],
         "title": {
          "text": "x"
         }
        },
        "yaxis": {
         "anchor": "x",
         "domain": [
          0,
          1
         ],
         "title": {
          "text": "y"
         }
        }
       }
      }
     },
     "metadata": {},
     "output_type": "display_data"
    }
   ],
   "source": [
    "fig = px.scatter(df_vis, x=\"x\", y=\"y\", hover_data=['deskripsi'], color='Cluster')\n",
    "fig.show()"
   ]
  },
  {
   "cell_type": "code",
   "execution_count": null,
   "metadata": {},
   "outputs": [],
   "source": []
  }
 ],
 "metadata": {
  "kernelspec": {
   "display_name": "ml-base",
   "language": "python",
   "name": "python3"
  },
  "language_info": {
   "codemirror_mode": {
    "name": "ipython",
    "version": 3
   },
   "file_extension": ".py",
   "mimetype": "text/x-python",
   "name": "python",
   "nbconvert_exporter": "python",
   "pygments_lexer": "ipython3",
   "version": "3.9.19"
  }
 },
 "nbformat": 4,
 "nbformat_minor": 2
}
