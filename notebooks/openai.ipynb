{
 "cells": [
  {
   "cell_type": "code",
   "execution_count": 23,
   "metadata": {},
   "outputs": [],
   "source": [
    "import sys\n",
    "\n",
    "sys.path.insert(1, '../')"
   ]
  },
  {
   "cell_type": "code",
   "execution_count": 24,
   "metadata": {},
   "outputs": [],
   "source": [
    "from scripts.search import get_supplier"
   ]
  },
  {
   "cell_type": "code",
   "execution_count": 2,
   "metadata": {},
   "outputs": [],
   "source": [
    "import openai\n",
    "from openai import OpenAI\n",
    "\n",
    "openai_api_key = 'sk-proj-QasBxGfGAE328TSt1cuzT3BlbkFJllWJJz5VygPxStQMhsMf'\n",
    "openai.api_key = openai_api_key"
   ]
  },
  {
   "cell_type": "code",
   "execution_count": 73,
   "metadata": {},
   "outputs": [],
   "source": [
    "history = [\n",
    "    {\n",
    "        \"role\": \"assistant\", \n",
    "        \"content\": \"Halo, apa yang bisa saya bantu?\"\n",
    "    },\n",
    "    # {\n",
    "    #     \"role\": \"user\",\n",
    "    #     \"content\": \"Saya sedang mencari supplier untuk usaha furniture di sekitar Bogor atau Tanggerang. Ada rekomendasi nggak?\"\n",
    "    # },\n",
    "    {\n",
    "        \"role\": \"user\",\n",
    "        \"content\": \"Cara membuat nasi goreng?\"\n",
    "    },\n",
    "]"
   ]
  },
  {
   "cell_type": "code",
   "execution_count": 74,
   "metadata": {},
   "outputs": [],
   "source": [
    "tools = [\n",
    "    {\n",
    "        \"type\": \"function\",\n",
    "        \"function\": {\n",
    "            \"name\": \"get_supplier\",\n",
    "            \"description\": \"Mendapatkan informasi supplier\",\n",
    "            \"parameters\": {\n",
    "                \"type\": \"object\",\n",
    "                \"properties\": {\n",
    "                    \"barang_jasa\": {\n",
    "                        \"type\": \"string\",\n",
    "                        \"description\": \"Barang atau jasa yang ingin di cari\",\n",
    "                    },\n",
    "                    \"provinsi\": {\n",
    "                        \"type\": \"array\",\n",
    "                        \"description\": \"Daftar nama provinsi, contoh: Jawa Barat\",\n",
    "                        \"items\": {\n",
    "                            \"type\": \"string\"\n",
    "                        }\n",
    "                    },\n",
    "                    \"kota\": {\n",
    "                        \"type\": \"array\",\n",
    "                        \"description\": \"Daftar nama kota, contoh: Bogor\",\n",
    "                        \"items\": {\n",
    "                            \"type\": \"string\"\n",
    "                        }\n",
    "                    },\n",
    "                    \"kecamatan\": {\n",
    "                        \"type\": \"array\",\n",
    "                        \"description\": \"Daftar nama kecamatan, contoh: Bogor Timur\",\n",
    "                        \"items\": {\n",
    "                            \"type\": \"string\"\n",
    "                        }\n",
    "                    },\n",
    "                },\n",
    "                \"required\": [\"barang_jasa\"],\n",
    "            },\n",
    "        },\n",
    "    }\n",
    "]"
   ]
  },
  {
   "cell_type": "code",
   "execution_count": 75,
   "metadata": {},
   "outputs": [
    {
     "data": {
      "text/plain": [
       "ChatCompletion(id='chatcmpl-9gCllZp55rwSqmQdMWwhcl8bHiPrI', choices=[Choice(finish_reason='stop', index=0, logprobs=None, message=ChatCompletionMessage(content='Berikut ini adalah langkah-langkah membuat nasi goreng:\\n\\nBahan-bahan:\\n1. Nasi putih (bekas atau dingin)\\n2. Bawang putih, bawang merah, dan cabai merah (sesuai selera)\\n3. Daging ayam, daging sapi, atau udang (opsional)\\n4. Telur\\n5. Kecap manis\\n6. Garam, gula, lada, dan penyedap rasa\\n\\nLangkah-langkah:\\n1. Tumis bawang putih, bawang merah, dan cabai merah hingga harum.\\n2. Tambahkan daging ayam, daging sapi, atau udang. Aduk hingga matang.\\n3. Masukkan telur dan aduk rata hingga telur matang.\\n4. Masukkan nasi putih dan aduk hingga tercampur rata.\\n5. Tambahkan kecap manis, garam, gula, lada, dan penyedap rasa sesuai selera.\\n6. Aduk terus hingga semua bahan tercampur dan matang.\\n7. Sajikan nasi goreng panas dengan irisan telur mata sapi dan acar timun.\\n\\nSelamat mencoba membuat nasi goreng di rumah! Jika Anda membutuhkan bantuan lain, jangan ragu untuk bertanya.', role='assistant', function_call=None, tool_calls=None))], created=1719845889, model='gpt-3.5-turbo-0125', object='chat.completion', service_tier=None, system_fingerprint=None, usage=CompletionUsage(completion_tokens=306, prompt_tokens=138, total_tokens=444))"
      ]
     },
     "execution_count": 75,
     "metadata": {},
     "output_type": "execute_result"
    }
   ],
   "source": [
    "client = OpenAI(api_key=openai_api_key)\n",
    "response = client.chat.completions.create(\n",
    "    model=\"gpt-3.5-turbo\", \n",
    "    messages=history,\n",
    "    tools=tools,\n",
    "    tool_choice=\"auto\",  # auto is default, but we'll be explicit\n",
    ")\n",
    "response"
   ]
  },
  {
   "cell_type": "code",
   "execution_count": 76,
   "metadata": {},
   "outputs": [
    {
     "ename": "TypeError",
     "evalue": "'NoneType' object is not subscriptable",
     "output_type": "error",
     "traceback": [
      "\u001b[0;31m---------------------------------------------------------------------------\u001b[0m",
      "\u001b[0;31mTypeError\u001b[0m                                 Traceback (most recent call last)",
      "Cell \u001b[0;32mIn[76], line 2\u001b[0m\n\u001b[1;32m      1\u001b[0m response_message \u001b[38;5;241m=\u001b[39m response\u001b[38;5;241m.\u001b[39mchoices[\u001b[38;5;241m0\u001b[39m]\u001b[38;5;241m.\u001b[39mmessage\n\u001b[0;32m----> 2\u001b[0m tool_calls \u001b[38;5;241m=\u001b[39m \u001b[43mresponse_message\u001b[49m\u001b[38;5;241;43m.\u001b[39;49m\u001b[43mtool_calls\u001b[49m\u001b[43m[\u001b[49m\u001b[38;5;241;43m0\u001b[39;49m\u001b[43m]\u001b[49m\n\u001b[1;32m      4\u001b[0m response_message\n",
      "\u001b[0;31mTypeError\u001b[0m: 'NoneType' object is not subscriptable"
     ]
    }
   ],
   "source": [
    "response_message = response.choices[0].message\n",
    "tool_calls = response_message.tool_calls[0]\n",
    "\n",
    "response_message"
   ]
  },
  {
   "cell_type": "code",
   "execution_count": 79,
   "metadata": {},
   "outputs": [
    {
     "data": {
      "text/plain": [
       "'Berikut ini adalah langkah-langkah membuat nasi goreng:\\n\\nBahan-bahan:\\n1. Nasi putih (bekas atau dingin)\\n2. Bawang putih, bawang merah, dan cabai merah (sesuai selera)\\n3. Daging ayam, daging sapi, atau udang (opsional)\\n4. Telur\\n5. Kecap manis\\n6. Garam, gula, lada, dan penyedap rasa\\n\\nLangkah-langkah:\\n1. Tumis bawang putih, bawang merah, dan cabai merah hingga harum.\\n2. Tambahkan daging ayam, daging sapi, atau udang. Aduk hingga matang.\\n3. Masukkan telur dan aduk rata hingga telur matang.\\n4. Masukkan nasi putih dan aduk hingga tercampur rata.\\n5. Tambahkan kecap manis, garam, gula, lada, dan penyedap rasa sesuai selera.\\n6. Aduk terus hingga semua bahan tercampur dan matang.\\n7. Sajikan nasi goreng panas dengan irisan telur mata sapi dan acar timun.\\n\\nSelamat mencoba membuat nasi goreng di rumah! Jika Anda membutuhkan bantuan lain, jangan ragu untuk bertanya.'"
      ]
     },
     "execution_count": 79,
     "metadata": {},
     "output_type": "execute_result"
    }
   ],
   "source": [
    "response_message.content"
   ]
  },
  {
   "cell_type": "code",
   "execution_count": 57,
   "metadata": {},
   "outputs": [
    {
     "data": {
      "text/plain": [
       "ChatCompletionMessageToolCall(id='call_3f01wWWaVIMwBhGe6xn09piF', function=Function(arguments='{\"barang_jasa\":\"furniture\",\"kota\":[\"Bogor\",\"Tangerang\"]}', name='get_supplier'), type='function')"
      ]
     },
     "execution_count": 57,
     "metadata": {},
     "output_type": "execute_result"
    }
   ],
   "source": [
    "tool_calls"
   ]
  },
  {
   "cell_type": "code",
   "execution_count": 58,
   "metadata": {},
   "outputs": [
    {
     "data": {
      "text/plain": [
       "Function(arguments='{\"barang_jasa\":\"furniture\",\"kota\":[\"Bogor\",\"Tangerang\"]}', name='get_supplier')"
      ]
     },
     "execution_count": 58,
     "metadata": {},
     "output_type": "execute_result"
    }
   ],
   "source": [
    "tool_calls.function"
   ]
  },
  {
   "cell_type": "code",
   "execution_count": 59,
   "metadata": {},
   "outputs": [
    {
     "data": {
      "text/plain": [
       "('get_supplier', '{\"barang_jasa\":\"furniture\",\"kota\":[\"Bogor\",\"Tangerang\"]}')"
      ]
     },
     "execution_count": 59,
     "metadata": {},
     "output_type": "execute_result"
    }
   ],
   "source": [
    "(tool_calls.function.name, tool_calls.function.arguments)"
   ]
  },
  {
   "cell_type": "code",
   "execution_count": 60,
   "metadata": {},
   "outputs": [
    {
     "data": {
      "text/plain": [
       "{'barang_jasa': 'furniture', 'kota': ['Bogor', 'Tangerang']}"
      ]
     },
     "execution_count": 60,
     "metadata": {},
     "output_type": "execute_result"
    }
   ],
   "source": [
    "import json\n",
    "\n",
    "args = json.loads(tool_calls.function.arguments)\n",
    "args"
   ]
  },
  {
   "cell_type": "code",
   "execution_count": 61,
   "metadata": {},
   "outputs": [
    {
     "data": {
      "text/plain": [
       "('furniture', [], ['Bogor', 'Tangerang'], [])"
      ]
     },
     "execution_count": 61,
     "metadata": {},
     "output_type": "execute_result"
    }
   ],
   "source": [
    "barang_jasa = args['barang_jasa']\n",
    "provinsi = args.get('provinsi', [])\n",
    "kota = args.get('kota', [])\n",
    "kecamatan = args.get('kecamatan', [])\n",
    "\n",
    "(barang_jasa, provinsi, kota, kecamatan)"
   ]
  },
  {
   "cell_type": "code",
   "execution_count": 62,
   "metadata": {},
   "outputs": [
    {
     "name": "stdout",
     "output_type": "stream",
     "text": [
      "filter_str: (kota eq 'Bogor' or kota eq 'Tangerang')\n"
     ]
    }
   ],
   "source": [
    "if tool_calls.function.name == 'get_supplier':\n",
    "    df = get_supplier(barang_jasa, provinsi=provinsi, kota=kota, kecamatan=kecamatan)\n",
    "    df"
   ]
  },
  {
   "cell_type": "code",
   "execution_count": 63,
   "metadata": {},
   "outputs": [
    {
     "data": {
      "text/html": [
       "<div>\n",
       "<style scoped>\n",
       "    .dataframe tbody tr th:only-of-type {\n",
       "        vertical-align: middle;\n",
       "    }\n",
       "\n",
       "    .dataframe tbody tr th {\n",
       "        vertical-align: top;\n",
       "    }\n",
       "\n",
       "    .dataframe thead th {\n",
       "        text-align: right;\n",
       "    }\n",
       "</style>\n",
       "<table border=\"1\" class=\"dataframe\">\n",
       "  <thead>\n",
       "    <tr style=\"text-align: right;\">\n",
       "      <th></th>\n",
       "      <th>id</th>\n",
       "      <th>bidang</th>\n",
       "      <th>supplier</th>\n",
       "      <th>deskripsi</th>\n",
       "      <th>barang</th>\n",
       "      <th>provinsi</th>\n",
       "      <th>kota</th>\n",
       "      <th>kecamatan</th>\n",
       "    </tr>\n",
       "  </thead>\n",
       "  <tbody>\n",
       "    <tr>\n",
       "      <th>0</th>\n",
       "      <td>93</td>\n",
       "      <td>Furniture</td>\n",
       "      <td>PT Lumber Supplies</td>\n",
       "      <td>Supplier kayu untuk pembuatan furniture</td>\n",
       "      <td>Kayu Pinus, Kayu Meranti</td>\n",
       "      <td>Banten</td>\n",
       "      <td>Tangerang</td>\n",
       "      <td>Karawaci</td>\n",
       "    </tr>\n",
       "    <tr>\n",
       "      <th>1</th>\n",
       "      <td>99</td>\n",
       "      <td>Furniture</td>\n",
       "      <td>PT Hardwood Solutions</td>\n",
       "      <td>Supplier kayu keras</td>\n",
       "      <td>Kayu Pinus, Kayu Meranti</td>\n",
       "      <td>Jawa Barat</td>\n",
       "      <td>Bogor</td>\n",
       "      <td>Bogor Timur</td>\n",
       "    </tr>\n",
       "  </tbody>\n",
       "</table>\n",
       "</div>"
      ],
      "text/plain": [
       "   id     bidang               supplier  \\\n",
       "0  93  Furniture     PT Lumber Supplies   \n",
       "1  99  Furniture  PT Hardwood Solutions   \n",
       "\n",
       "                                 deskripsi                    barang  \\\n",
       "0  Supplier kayu untuk pembuatan furniture  Kayu Pinus, Kayu Meranti   \n",
       "1                      Supplier kayu keras  Kayu Pinus, Kayu Meranti   \n",
       "\n",
       "     provinsi       kota    kecamatan  \n",
       "0      Banten  Tangerang     Karawaci  \n",
       "1  Jawa Barat      Bogor  Bogor Timur  "
      ]
     },
     "execution_count": 63,
     "metadata": {},
     "output_type": "execute_result"
    }
   ],
   "source": [
    "df"
   ]
  },
  {
   "cell_type": "code",
   "execution_count": 64,
   "metadata": {},
   "outputs": [
    {
     "name": "stdout",
     "output_type": "stream",
     "text": [
      "|    |   id | bidang    | supplier              | deskripsi                               | barang                   | provinsi   | kota      | kecamatan   |\n",
      "|---:|-----:|:----------|:----------------------|:----------------------------------------|:-------------------------|:-----------|:----------|:------------|\n",
      "|  0 |   93 | Furniture | PT Lumber Supplies    | Supplier kayu untuk pembuatan furniture | Kayu Pinus, Kayu Meranti | Banten     | Tangerang | Karawaci    |\n",
      "|  1 |   99 | Furniture | PT Hardwood Solutions | Supplier kayu keras                     | Kayu Pinus, Kayu Meranti | Jawa Barat | Bogor     | Bogor Timur |\n"
     ]
    }
   ],
   "source": [
    "supplier_content = df.to_markdown()\n",
    "print(supplier_content)"
   ]
  },
  {
   "cell_type": "markdown",
   "metadata": {},
   "source": [
    "# Final Answer"
   ]
  },
  {
   "cell_type": "code",
   "execution_count": 67,
   "metadata": {},
   "outputs": [
    {
     "name": "stdout",
     "output_type": "stream",
     "text": [
      "[\n",
      "    {\n",
      "        \"role\": \"assistant\",\n",
      "        \"content\": \"Halo, apa yang bisa saya bantu?\"\n",
      "    },\n",
      "    {\n",
      "        \"role\": \"user\",\n",
      "        \"content\": \"Saya sedang mencari supplier untuk usaha furniture di sekitar Bogor atau Tanggerang. Ada rekomendasi nggak?\"\n",
      "    },\n",
      "    {\n",
      "        \"role\": \"system\",\n",
      "        \"content\": \"Daftar UMKM yang tersedia:\\n|    |   id | bidang    | supplier              | deskripsi                               | barang                   | provinsi   | kota      | kecamatan   |\\n|---:|-----:|:----------|:----------------------|:----------------------------------------|:-------------------------|:-----------|:----------|:------------|\\n|  0 |   93 | Furniture | PT Lumber Supplies    | Supplier kayu untuk pembuatan furniture | Kayu Pinus, Kayu Meranti | Banten     | Tangerang | Karawaci    |\\n|  1 |   99 | Furniture | PT Hardwood Solutions | Supplier kayu keras                     | Kayu Pinus, Kayu Meranti | Jawa Barat | Bogor     | Bogor Timur |\"\n",
      "    }\n",
      "]\n"
     ]
    }
   ],
   "source": [
    "history2 = list(history)\n",
    "history2.append({\n",
    "    'role': 'system',\n",
    "    'content': f'Daftar UMKM yang tersedia:\\n{supplier_content}'\n",
    "})\n",
    "print(json.dumps(history2, indent=4))"
   ]
  },
  {
   "cell_type": "code",
   "execution_count": 68,
   "metadata": {},
   "outputs": [
    {
     "data": {
      "text/plain": [
       "ChatCompletion(id='chatcmpl-9gCiQtABH0PA3awJEckQuQAIAZNnL', choices=[Choice(finish_reason='stop', index=0, logprobs=None, message=ChatCompletionMessage(content='Berikut adalah daftar supplier furniture di sekitar Bogor dan Tangerang:\\n1. PT Lumber Supplies - Tangerang\\n   - Deskripsi: Supplier kayu untuk pembuatan furniture\\n   - Barang: Kayu Pinus, Kayu Meranti\\n   - Lokasi: Tangerang, Karawaci\\n\\n2. PT Hardwood Solutions - Bogor\\n   - Deskripsi: Supplier kayu keras\\n   - Barang: Kayu Pinus, Kayu Meranti\\n   - Lokasi: Bogor, Bogor Timur\\n\\nAnda bisa menghubungi kedua supplier di atas untuk informasi lebih lanjut atau pertanyaan tentang kebutuhan furniture Anda. Semoga membantu!', role='assistant', function_call=None, tool_calls=None))], created=1719845682, model='gpt-3.5-turbo-0125', object='chat.completion', service_tier=None, system_fingerprint=None, usage=CompletionUsage(completion_tokens=151, prompt_tokens=223, total_tokens=374))"
      ]
     },
     "execution_count": 68,
     "metadata": {},
     "output_type": "execute_result"
    }
   ],
   "source": [
    "client = OpenAI(api_key=openai_api_key)\n",
    "response = client.chat.completions.create(\n",
    "    model=\"gpt-3.5-turbo\", \n",
    "    messages=history2,\n",
    ")\n",
    "response"
   ]
  },
  {
   "cell_type": "code",
   "execution_count": 72,
   "metadata": {},
   "outputs": [
    {
     "name": "stdout",
     "output_type": "stream",
     "text": [
      "Berikut adalah daftar supplier furniture di sekitar Bogor dan Tangerang:\n",
      "1. PT Lumber Supplies - Tangerang\n",
      "   - Deskripsi: Supplier kayu untuk pembuatan furniture\n",
      "   - Barang: Kayu Pinus, Kayu Meranti\n",
      "   - Lokasi: Tangerang, Karawaci\n",
      "\n",
      "2. PT Hardwood Solutions - Bogor\n",
      "   - Deskripsi: Supplier kayu keras\n",
      "   - Barang: Kayu Pinus, Kayu Meranti\n",
      "   - Lokasi: Bogor, Bogor Timur\n",
      "\n",
      "Anda bisa menghubungi kedua supplier di atas untuk informasi lebih lanjut atau pertanyaan tentang kebutuhan furniture Anda. Semoga membantu!\n"
     ]
    }
   ],
   "source": [
    "print(response.choices[0].message.content)"
   ]
  },
  {
   "cell_type": "code",
   "execution_count": null,
   "metadata": {},
   "outputs": [],
   "source": []
  }
 ],
 "metadata": {
  "kernelspec": {
   "display_name": "team-4",
   "language": "python",
   "name": "python3"
  },
  "language_info": {
   "codemirror_mode": {
    "name": "ipython",
    "version": 3
   },
   "file_extension": ".py",
   "mimetype": "text/x-python",
   "name": "python",
   "nbconvert_exporter": "python",
   "pygments_lexer": "ipython3",
   "version": "3.9.19"
  }
 },
 "nbformat": 4,
 "nbformat_minor": 2
}
